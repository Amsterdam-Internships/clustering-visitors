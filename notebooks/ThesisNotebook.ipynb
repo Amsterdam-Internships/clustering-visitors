{
 "cells": [
  {
   "cell_type": "code",
   "execution_count": null,
   "metadata": {},
   "outputs": [],
   "source": [
    "import pandas as pd"
   ]
  },
  {
   "cell_type": "code",
   "execution_count": null,
   "metadata": {},
   "outputs": [],
   "source": [
    "zwembad_bezoekers_df = pd.read_csv('data/zwembad_bezoekers_anoniem.csv')"
   ]
  },
  {
   "cell_type": "code",
   "execution_count": null,
   "metadata": {},
   "outputs": [],
   "source": [
    "zwembad_verkopen_df = pd.read_csv('data/zwembad_verkopen_anoniem.csv')"
   ]
  },
  {
   "cell_type": "markdown",
   "metadata": {},
   "source": [
    "## Exploratory Data Analysis"
   ]
  },
  {
   "cell_type": "markdown",
   "metadata": {},
   "source": [
    "### Zwembadbezoekers "
   ]
  },
  {
   "cell_type": "markdown",
   "metadata": {},
   "source": [
    "#### Remove all columns with more than one unique value\n",
    "#### Check columns with not many unique values and delete if applicable"
   ]
  },
  {
   "cell_type": "code",
   "execution_count": null,
   "metadata": {},
   "outputs": [],
   "source": [
    "print(zwembad_verkopen_df.columns)"
   ]
  },
  {
   "cell_type": "code",
   "execution_count": null,
   "metadata": {},
   "outputs": [],
   "source": [
    "print('There are '+ str(len(zwembad_verkopen_df.columns)) + ' columns to begin with.')\n",
    "\n",
    "for column in list(zwembad_verkopen_df.columns):\n",
    "    if len(zwembad_verkopen_df[column].unique()) < 2:\n",
    "        del zwembad_verkopen_df[column]\n",
    "    elif len(zwembad_verkopen_df[column].unique()) < 5:\n",
    "        print(column)\n",
    "        print('There are ' + str(len(zwembad_verkopen_df) - zwembad_verkopen_df[column].isna().sum()) + ' non na values for ' + column)        \n",
    "        print(zwembad_verkopen_df[column].unique())"
   ]
  },
  {
   "cell_type": "code",
   "execution_count": null,
   "metadata": {},
   "outputs": [],
   "source": [
    "del zwembad_verkopen_df['klant_btw-nr.']\n",
    "del zwembad_verkopen_df['verkoop_provincie']\n",
    "del zwembad_verkopen_df['verkoopsregel_prijsgroep']\n",
    "del zwembad_verkopen_df['verkoopsregel_uren']\n",
    "del zwembad_verkopen_df['adrescategorie']"
   ]
  },
  {
   "cell_type": "code",
   "execution_count": null,
   "metadata": {},
   "outputs": [],
   "source": [
    "print('There are '+ str(len(zwembad_verkopen_df.columns)) + ' columns left after initial trimming.')"
   ]
  },
  {
   "cell_type": "markdown",
   "metadata": {},
   "source": [
    "#### Check other columns "
   ]
  },
  {
   "cell_type": "code",
   "execution_count": null,
   "metadata": {},
   "outputs": [],
   "source": [
    "for index, row in zwembad_verkopen_df.iterrows():\n",
    "    for column in list(zwembad_verkopen_df.columns):\n",
    "        print(column)\n",
    "        print(row[column])\n",
    "        \n",
    "    break"
   ]
  },
  {
   "cell_type": "code",
   "execution_count": null,
   "metadata": {},
   "outputs": [],
   "source": [
    "print(zwembad_bezoekers_df.columns)"
   ]
  },
  {
   "cell_type": "code",
   "execution_count": null,
   "metadata": {},
   "outputs": [],
   "source": [
    "print('There are '+ str(len(zwembad_bezoekers_df.columns)) + ' columns to begin with.')\n",
    "\n",
    "for column in list(zwembad_bezoekers_df.columns):\n",
    "    if len(zwembad_bezoekers_df[column].unique()) < 2:\n",
    "        del zwembad_bezoekers_df[column]\n",
    "    elif len(zwembad_bezoekers_df[column].unique()) < 5:\n",
    "        print(column)\n",
    "        print('There are ' + str(len(zwembad_bezoekers_df) - zwembad_bezoekers_df[column].isna().sum()) + ' non na values for ' + column)        \n",
    "        print(zwembad_bezoekers_df[column].unique())"
   ]
  },
  {
   "cell_type": "code",
   "execution_count": null,
   "metadata": {},
   "outputs": [],
   "source": [
    "print('There are '+ str(len(zwembad_bezoekers_df.columns)) + ' columns left after initial trimming.')"
   ]
  },
  {
   "cell_type": "markdown",
   "metadata": {},
   "source": [
    "#### Check other columns "
   ]
  },
  {
   "cell_type": "code",
   "execution_count": null,
   "metadata": {},
   "outputs": [],
   "source": [
    "for index, row in zwembad_bezoekers_df.iterrows():\n",
    "    for column in list(zwembad_bezoekers_df.columns):\n",
    "        print(column)\n",
    "        print(row[column])\n",
    "    break"
   ]
  },
  {
   "cell_type": "markdown",
   "metadata": {},
   "source": [
    "### Keep only Noorderparkerbad"
   ]
  },
  {
   "cell_type": "markdown",
   "metadata": {},
   "source": [
    "Het is hier misschien nog mogelijk om meer data over te houden maar voor nu neem ik genoegen met ongeveer 1/5e van het totaal. "
   ]
  },
  {
   "cell_type": "code",
   "execution_count": null,
   "metadata": {},
   "outputs": [],
   "source": [
    "zwembadverkopen_noorderparkbad_df = zwembad_verkopen_df[zwembad_verkopen_df['verkoop_divisie'] == 'NOORDERPARKBAD']"
   ]
  },
  {
   "cell_type": "code",
   "execution_count": null,
   "metadata": {},
   "outputs": [],
   "source": [
    "print('There are ' + str(len(zwembadverkopen_noorderparkbad_df)) + ' observations for the Noorderparkbad sales data ')\n",
    "print('This is ' + str(int((len(zwembadverkopen_noorderparkbad_df)/len(zwembad_verkopen_df))*100)) + '% of total data.')"
   ]
  },
  {
   "cell_type": "code",
   "execution_count": null,
   "metadata": {},
   "outputs": [],
   "source": [
    "zwembadverkopen_noorderparkbad_df.to_excel('zwembadverkopen_noorderparkbad.xlsx')"
   ]
  },
  {
   "cell_type": "code",
   "execution_count": null,
   "metadata": {},
   "outputs": [],
   "source": [
    "zwembadverkopen_noorderparkbad_df = pd.read_excel('zwembadverkopen_noorderparkbad.xlsx')"
   ]
  },
  {
   "cell_type": "code",
   "execution_count": null,
   "metadata": {},
   "outputs": [],
   "source": [
    "zwembadbezoekers_noorderparkbad_df = zwembad_bezoekers_df[zwembad_bezoekers_df['artikelafdeling_omschrijving'] == 'Noorderparkbad']"
   ]
  },
  {
   "cell_type": "code",
   "execution_count": null,
   "metadata": {},
   "outputs": [],
   "source": [
    "print('There are ' + str(len(zwembadbezoekers_noorderparkbad_df)) + ' observations for the Noorderparkbad visitors data ')\n",
    "print('This is ' + str(int((len(zwembadbezoekers_noorderparkbad_df)/len(zwembad_bezoekers_df))*100)) + '% of total data.')"
   ]
  },
  {
   "cell_type": "code",
   "execution_count": null,
   "metadata": {},
   "outputs": [],
   "source": [
    "zwembadbezoekers_noorderparkbad_df.to_excel('zwembadbezoekers_noorderparkbad.xlsx')"
   ]
  },
  {
   "cell_type": "code",
   "execution_count": null,
   "metadata": {},
   "outputs": [],
   "source": [
    "zwembadbezoekers_noorderparkbad_df = pd.read_excel('zwembadbezoekers_noorderparkbad.xlsx')"
   ]
  },
  {
   "cell_type": "markdown",
   "metadata": {},
   "source": [
    "### Merge datasets"
   ]
  },
  {
   "cell_type": "code",
   "execution_count": null,
   "metadata": {},
   "outputs": [],
   "source": [
    "merged_noorderparkbad_df = pd.merge(zwembadverkopen_noorderparkbad_df, zwembadbezoekers_noorderparkbad_df, on='buurt_code')"
   ]
  },
  {
   "cell_type": "code",
   "execution_count": null,
   "metadata": {},
   "outputs": [],
   "source": [
    "merged_noorderparkbad_df"
   ]
  },
  {
   "cell_type": "code",
   "execution_count": null,
   "metadata": {},
   "outputs": [],
   "source": [
    "for index, row in merged_noorderparkbad_df.iterrows():\n",
    "    for column in list(merged_noorderparkbad_df.columns):\n",
    "        print(column)\n",
    "        print(row[column])\n",
    "    break"
   ]
  },
  {
   "cell_type": "markdown",
   "metadata": {},
   "source": [
    "### Keep only relevant columns for clustering"
   ]
  },
  {
   "cell_type": "markdown",
   "metadata": {},
   "source": [
    "#### Identifiers"
   ]
  },
  {
   "cell_type": "code",
   "execution_count": null,
   "metadata": {},
   "outputs": [],
   "source": [
    "del zwembadverkopen_noorderparkbad_df['Unnamed: 0']\n",
    "del zwembadverkopen_noorderparkbad_df['Unnamed: 0.1']"
   ]
  },
  {
   "cell_type": "markdown",
   "metadata": {},
   "source": [
    "#### Aantal"
   ]
  },
  {
   "cell_type": "code",
   "execution_count": null,
   "metadata": {},
   "outputs": [],
   "source": [
    "zwembadverkopen_noorderparkbad_df[zwembadverkopen_noorderparkbad_df['aantal'] == 21221]"
   ]
  },
  {
   "cell_type": "code",
   "execution_count": null,
   "metadata": {},
   "outputs": [],
   "source": [
    "zwembadverkopen_noorderparkbad_df['aantal'].unique()"
   ]
  },
  {
   "cell_type": "markdown",
   "metadata": {},
   "source": [
    "Waarom zijn er negatieve waarden in aantallen? Waarom zijn er veel grote waarden (boven de 1.000)?  "
   ]
  },
  {
   "cell_type": "markdown",
   "metadata": {},
   "source": [
    "#### Verkoop documenttypes"
   ]
  },
  {
   "cell_type": "code",
   "execution_count": null,
   "metadata": {},
   "outputs": [],
   "source": [
    "zwembadverkopen_noorderparkbad_df['verkoop_documenttype'].unique()"
   ]
  },
  {
   "cell_type": "markdown",
   "metadata": {},
   "source": [
    "Wat betekent verkoop documenttype 0 of 5? "
   ]
  },
  {
   "cell_type": "markdown",
   "metadata": {},
   "source": [
    "#### Prijzen"
   ]
  },
  {
   "cell_type": "code",
   "execution_count": null,
   "metadata": {},
   "outputs": [],
   "source": [
    "print(str(int(len(zwembadverkopen_noorderparkbad_df[zwembadverkopen_noorderparkbad_df['verkoopsregel_eenheidsprijs_(excl.)'] == 0])/len(zwembadverkopen_noorderparkbad_df)*100)) + '% van de prijzen ex btw zijn 0 euro.')"
   ]
  },
  {
   "cell_type": "code",
   "execution_count": null,
   "metadata": {},
   "outputs": [],
   "source": [
    "print(str(int(len(zwembadverkopen_noorderparkbad_df[zwembadverkopen_noorderparkbad_df['verkoopsregel_eenheidsprijs_(incl.)'] == 0])/len(zwembadverkopen_noorderparkbad_df)*100)) + '% van de prijzen in btw zijn 0 euro.')"
   ]
  },
  {
   "cell_type": "code",
   "execution_count": null,
   "metadata": {},
   "outputs": [],
   "source": [
    "print(str(len(zwembadverkopen_noorderparkbad_df[zwembadverkopen_noorderparkbad_df['verkoopsregel_bedrag_korting'] == 0])/len(zwembadverkopen_noorderparkbad_df)*100) + '% van de aankopen zijn zonder korting.')"
   ]
  },
  {
   "cell_type": "code",
   "execution_count": null,
   "metadata": {},
   "outputs": [],
   "source": [
    "del"
   ]
  },
  {
   "cell_type": "code",
   "execution_count": null,
   "metadata": {},
   "outputs": [],
   "source": [
    "print(str(int(len(zwembadverkopen_noorderparkbad_df[zwembadverkopen_noorderparkbad_df['verkoopsregel_btw%'] == 0])/len(zwembadverkopen_noorderparkbad_df)*100)) + '% van de prijzen zijn opgenomen met 0% btw.')\n",
    "print(str(int(len(zwembadverkopen_noorderparkbad_df[zwembadverkopen_noorderparkbad_df['verkoopsregel_btw%'] == 6])/len(zwembadverkopen_noorderparkbad_df)*100)) + '% van de prijzen zijn opgenomen met 6% btw.')\n",
    "print(str(int(len(zwembadverkopen_noorderparkbad_df[zwembadverkopen_noorderparkbad_df['verkoopsregel_btw%'] == 21])/len(zwembadverkopen_noorderparkbad_df)*100)) + '% van de prijzen zijn opgenomen met 21% btw.')"
   ]
  },
  {
   "cell_type": "code",
   "execution_count": null,
   "metadata": {},
   "outputs": [],
   "source": [
    "print(str(len(zwembadverkopen_noorderparkbad_df[zwembadverkopen_noorderparkbad_df['bedrag'] == 0])/len(zwembadverkopen_noorderparkbad_df)*100) + '% van de aankopen zijn zonder korting.')"
   ]
  },
  {
   "cell_type": "code",
   "execution_count": null,
   "metadata": {},
   "outputs": [],
   "source": [
    "for index, row in zwembadverkopen_noorderparkbad_df.iterrows():\n",
    "    for column in list(zwembadverkopen_noorderparkbad_df.columns):\n",
    "        print('Column name: ' + column)\n",
    "        print('Column value (first row): ' + str(row[column]))\n",
    "        print('Number of unique values in column: ' + str(len(zwembadverkopen_noorderparkbad_df[column].unique())))\n",
    "        print('Number of NaN values in column: ' + str(zwembadverkopen_noorderparkbad_df[column].isna().sum()))\n",
    "        print('\\n')\n",
    "    break"
   ]
  },
  {
   "cell_type": "markdown",
   "metadata": {},
   "source": [
    "#### More identifiers"
   ]
  },
  {
   "cell_type": "code",
   "execution_count": null,
   "metadata": {},
   "outputs": [],
   "source": [
    "del zwembadverkopen_noorderparkbad_df['id']\n",
    "del zwembadverkopen_noorderparkbad_df['pointofsaleid']\n",
    "del zwembadverkopen_noorderparkbad_df['customerid']\n",
    "del zwembadverkopen_noorderparkbad_df['itemgroupid']\n",
    "del zwembadverkopen_noorderparkbad_df['glaccountid']\n",
    "del zwembadverkopen_noorderparkbad_df['itemdepartmentid']\n",
    "del zwembadverkopen_noorderparkbad_df['employeeid']"
   ]
  },
  {
   "cell_type": "code",
   "execution_count": null,
   "metadata": {},
   "outputs": [],
   "source": [
    "l'n(zwembadverkopen_noorderparkbad_df"
   ]
  },
  {
   "cell_type": "code",
   "execution_count": null,
   "metadata": {},
   "outputs": [],
   "source": [
    "zwembadbezoekers_noorderparkbad_df['klant_leeftijd_groep'].isna().sum()/len(zwembadverkopen_noorderparkbad_df)"
   ]
  },
  {
   "cell_type": "code",
   "execution_count": null,
   "metadata": {},
   "outputs": [],
   "source": [
    "for column in list(zwembadverkopen_noorderparkbad_df.columns):\n",
    "    print(column)\n",
    "    print(len(zwembadverkopen_noorderparkbad_df[column].unique()))"
   ]
  },
  {
   "cell_type": "code",
   "execution_count": null,
   "metadata": {},
   "outputs": [],
   "source": [
    "for index, row in zwembadbezoekers_noorderparkbad_df.iterrows():\n",
    "    for column in list(zwembadbezoekers_noorderparkbad_df.columns):\n",
    "        print(column)\n",
    "        print(row[column])\n",
    "    break"
   ]
  },
  {
   "cell_type": "code",
   "execution_count": null,
   "metadata": {},
   "outputs": [],
   "source": [
    "zwembadbezoekers_noorderparkbad_df"
   ]
  },
  {
   "cell_type": "code",
   "execution_count": null,
   "metadata": {},
   "outputs": [],
   "source": [
    "for column in list(zwembadbezoekers_noorderparkbad_df.columns):\n",
    "    print(column)\n",
    "    print(len(zwembadbezoekers_noorderparkbad_df[column].unique()))"
   ]
  },
  {
   "cell_type": "code",
   "execution_count": null,
   "metadata": {},
   "outputs": [],
   "source": []
  }
 ],
 "metadata": {
  "kernelspec": {
   "display_name": "Python 3",
   "language": "python",
   "name": "python3"
  },
  "language_info": {
   "codemirror_mode": {
    "name": "ipython",
    "version": 3
   },
   "file_extension": ".py",
   "mimetype": "text/x-python",
   "name": "python",
   "nbconvert_exporter": "python",
   "pygments_lexer": "ipython3",
   "version": "3.7.4"
  }
 },
 "nbformat": 4,
 "nbformat_minor": 2
}
