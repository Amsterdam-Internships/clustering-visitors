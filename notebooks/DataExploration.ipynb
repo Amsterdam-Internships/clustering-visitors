{
 "cells": [
  {
   "cell_type": "code",
   "execution_count": null,
   "metadata": {},
   "outputs": [],
   "source": [
    "import pandas as pd\n",
    "import matplotlib.pyplot as plt\n",
    "%matplotlib inline"
   ]
  },
  {
   "cell_type": "code",
   "execution_count": null,
   "metadata": {},
   "outputs": [],
   "source": [
    "zwembad_bezoekers_df = pd.read_csv('/Volumes/Samsung_T5/thesisIS/data/zwembad_bezoekers_anoniem.csv')"
   ]
  },
  {
   "cell_type": "code",
   "execution_count": null,
   "metadata": {},
   "outputs": [],
   "source": [
    "zwembad_verkopen_df = pd.read_csv('/Volumes/Samsung_T5/thesisIS/data/zwembad_verkopen_anoniem.csv')"
   ]
  },
  {
   "cell_type": "markdown",
   "metadata": {},
   "source": [
    "## Exploratory Data Analysis"
   ]
  },
  {
   "cell_type": "markdown",
   "metadata": {},
   "source": [
    "### Zwembadbezoekers "
   ]
  },
  {
   "cell_type": "markdown",
   "metadata": {},
   "source": [
    "#### Remove all columns with more than one unique value\n",
    "#### Check columns with not many unique values and delete if applicable"
   ]
  },
  {
   "cell_type": "code",
   "execution_count": null,
   "metadata": {},
   "outputs": [],
   "source": [
    "print(zwembad_verkopen_df.columns)"
   ]
  },
  {
   "cell_type": "code",
   "execution_count": null,
   "metadata": {},
   "outputs": [],
   "source": [
    "print('There are '+ str(len(zwembad_verkopen_df.columns)) + ' columns to begin with.')\n",
    "\n",
    "for column in list(zwembad_verkopen_df.columns):\n",
    "    if len(zwembad_verkopen_df[column].unique()) < 2:\n",
    "        del zwembad_verkopen_df[column]\n",
    "    elif len(zwembad_verkopen_df[column].unique()) < 5:\n",
    "        print(column)\n",
    "        print('There are ' + str(len(zwembad_verkopen_df) - zwembad_verkopen_df[column].isna().sum()) + ' non na values for ' + column)        \n",
    "        print(zwembad_verkopen_df[column].unique())"
   ]
  },
  {
   "cell_type": "code",
   "execution_count": null,
   "metadata": {},
   "outputs": [],
   "source": [
    "del zwembad_verkopen_df['klant_btw-nr.']\n",
    "del zwembad_verkopen_df['verkoop_provincie']\n",
    "del zwembad_verkopen_df['verkoopsregel_prijsgroep']\n",
    "del zwembad_verkopen_df['verkoopsregel_uren']\n",
    "del zwembad_verkopen_df['adrescategorie']"
   ]
  },
  {
   "cell_type": "code",
   "execution_count": null,
   "metadata": {},
   "outputs": [],
   "source": [
    "print('There are '+ str(len(zwembad_verkopen_df.columns)) + ' columns left after initial trimming.')"
   ]
  },
  {
   "cell_type": "markdown",
   "metadata": {},
   "source": [
    "#### Check other columns "
   ]
  },
  {
   "cell_type": "code",
   "execution_count": null,
   "metadata": {},
   "outputs": [],
   "source": [
    "for index, row in zwembad_verkopen_df.iterrows():\n",
    "    for column in list(zwembad_verkopen_df.columns):\n",
    "        print(column)\n",
    "        print(row[column])\n",
    "        \n",
    "    break"
   ]
  },
  {
   "cell_type": "code",
   "execution_count": null,
   "metadata": {},
   "outputs": [],
   "source": [
    "print(zwembad_bezoekers_df.columns)"
   ]
  },
  {
   "cell_type": "code",
   "execution_count": null,
   "metadata": {},
   "outputs": [],
   "source": [
    "print('There are '+ str(len(zwembad_bezoekers_df.columns)) + ' columns to begin with.')\n",
    "\n",
    "for column in list(zwembad_bezoekers_df.columns):\n",
    "    if len(zwembad_bezoekers_df[column].unique()) < 2:\n",
    "        del zwembad_bezoekers_df[column]\n",
    "    elif len(zwembad_bezoekers_df[column].unique()) < 5:\n",
    "        print(column)\n",
    "        print('There are ' + str(len(zwembad_bezoekers_df) - zwembad_bezoekers_df[column].isna().sum()) + ' non na values for ' + column)        \n",
    "        print(zwembad_bezoekers_df[column].unique())"
   ]
  },
  {
   "cell_type": "code",
   "execution_count": null,
   "metadata": {},
   "outputs": [],
   "source": [
    "print('There are '+ str(len(zwembad_bezoekers_df.columns)) + ' columns left after initial trimming.')"
   ]
  },
  {
   "cell_type": "markdown",
   "metadata": {},
   "source": [
    "#### Check other columns "
   ]
  },
  {
   "cell_type": "code",
   "execution_count": null,
   "metadata": {},
   "outputs": [],
   "source": [
    "for index, row in zwembad_bezoekers_df.iterrows():\n",
    "    for column in list(zwembad_bezoekers_df.columns):\n",
    "        print(column)\n",
    "        print(row[column])\n",
    "    break"
   ]
  },
  {
   "cell_type": "markdown",
   "metadata": {},
   "source": [
    "### Keep only Noorderparkerbad"
   ]
  },
  {
   "cell_type": "markdown",
   "metadata": {},
   "source": [
    "Het is hier misschien nog mogelijk om meer data over te houden maar voor nu neem ik genoegen met ongeveer 1/5e van het totaal. "
   ]
  },
  {
   "cell_type": "code",
   "execution_count": null,
   "metadata": {},
   "outputs": [],
   "source": [
    "zwembadverkopen_noorderparkbad_df = zwembad_verkopen_df[zwembad_verkopen_df['verkoop_divisie'] == 'NOORDERPARKBAD']"
   ]
  },
  {
   "cell_type": "code",
   "execution_count": null,
   "metadata": {},
   "outputs": [],
   "source": [
    "print('There are ' + str(len(zwembadverkopen_noorderparkbad_df)) + ' observations for the Noorderparkbad sales data ')\n",
    "print('This is ' + str(int((len(zwembadverkopen_noorderparkbad_df)/len(zwembad_verkopen_df))*100)) + '% of total data.')"
   ]
  },
  {
   "cell_type": "code",
   "execution_count": null,
   "metadata": {},
   "outputs": [],
   "source": [
    "zwembadverkopen_noorderparkbad_df.to_excel('zwembadverkopen_noorderparkbad.xlsx')"
   ]
  },
  {
   "cell_type": "code",
   "execution_count": null,
   "metadata": {},
   "outputs": [],
   "source": [
    "zwembadverkopen_noorderparkbad_df = pd.read_excel('zwembadverkopen_noorderparkbad.xlsx')"
   ]
  },
  {
   "cell_type": "code",
   "execution_count": null,
   "metadata": {},
   "outputs": [],
   "source": [
    "zwembadbezoekers_noorderparkbad_df = zwembad_bezoekers_df[zwembad_bezoekers_df['logging_divisie'] == 'NOORDERPARKBAD']"
   ]
  },
  {
   "cell_type": "code",
   "execution_count": null,
   "metadata": {},
   "outputs": [],
   "source": [
    "print('There are ' + str(len(zwembadbezoekers_noorderparkbad_df)) + ' observations for the Noorderparkbad visitors data ')\n",
    "print('This is ' + str(int((len(zwembadbezoekers_noorderparkbad_df)/len(zwembad_bezoekers_df))*100)) + '% of total data.')"
   ]
  },
  {
   "cell_type": "code",
   "execution_count": null,
   "metadata": {},
   "outputs": [],
   "source": [
    "zwembadbezoekers_noorderparkbad_df.to_excel('zwembadbezoekers_noorderparkbad.xlsx')"
   ]
  },
  {
   "cell_type": "code",
   "execution_count": null,
   "metadata": {},
   "outputs": [],
   "source": [
    "zwembadbezoekers_noorderparkbad_df = pd.read_excel('zwembadbezoekers_noorderparkbad.xlsx')"
   ]
  },
  {
   "cell_type": "markdown",
   "metadata": {},
   "source": [
    "### Merge datasets"
   ]
  },
  {
   "cell_type": "code",
   "execution_count": null,
   "metadata": {},
   "outputs": [],
   "source": [
    "merged_noorderparkbad_df = pd.merge(zwembadverkopen_noorderparkbad_df, zwembadbezoekers_noorderparkbad_df, on='buurt_code')"
   ]
  },
  {
   "cell_type": "code",
   "execution_count": null,
   "metadata": {},
   "outputs": [],
   "source": [
    "merged_noorderparkbad_df"
   ]
  },
  {
   "cell_type": "code",
   "execution_count": null,
   "metadata": {},
   "outputs": [],
   "source": [
    "for index, row in merged_noorderparkbad_df.iterrows():\n",
    "    for column in list(merged_noorderparkbad_df.columns):\n",
    "        print(column)\n",
    "        print(row[column])\n",
    "    break"
   ]
  },
  {
   "cell_type": "markdown",
   "metadata": {},
   "source": [
    "## Keep only relevant columns for clustering"
   ]
  },
  {
   "cell_type": "markdown",
   "metadata": {},
   "source": [
    "### Swimming pool purchases\n",
    "\n",
    "All columns are considered one by one."
   ]
  },
  {
   "cell_type": "code",
   "execution_count": null,
   "metadata": {},
   "outputs": [],
   "source": [
    "zwembadverkopen_noorderparkbad_df = pd.read_excel('zwembadverkopen_noorderparkbad.xlsx')"
   ]
  },
  {
   "cell_type": "code",
   "execution_count": null,
   "metadata": {},
   "outputs": [],
   "source": [
    "for index, row in zwembadverkopen_noorderparkbad_df.iterrows():\n",
    "    for column in list(zwembadverkopen_noorderparkbad_df.columns):\n",
    "        print('Column name: ' + column)\n",
    "        print('Column value (first row): ' + str(row[column]))\n",
    "        print('Number of unique values in column: ' + str(len(zwembadverkopen_noorderparkbad_df[column].unique())))\n",
    "        print('Number of NaN values in column: ' + str(zwembadverkopen_noorderparkbad_df[column].isna().sum()))\n",
    "        print('\\n')\n",
    "    break"
   ]
  },
  {
   "cell_type": "markdown",
   "metadata": {},
   "source": [
    "#### First remove all columns with more than 50% nans"
   ]
  },
  {
   "cell_type": "code",
   "execution_count": null,
   "metadata": {},
   "outputs": [],
   "source": [
    "for column in list(zwembadverkopen_noorderparkbad_df.columns):\n",
    "    if zwembadverkopen_noorderparkbad_df[column].isna().sum() > len(zwembadverkopen_noorderparkbad_df)/2:\n",
    "        print('The column '+str(column+ 'has been deleted.'))\n",
    "        del zwembadverkopen_noorderparkbad_df[column]"
   ]
  },
  {
   "cell_type": "markdown",
   "metadata": {},
   "source": [
    "#### Identifiers"
   ]
  },
  {
   "cell_type": "code",
   "execution_count": null,
   "metadata": {},
   "outputs": [],
   "source": [
    "del zwembadverkopen_noorderparkbad_df['Unnamed: 0']\n",
    "del zwembadverkopen_noorderparkbad_df['Unnamed: 0.1']"
   ]
  },
  {
   "cell_type": "code",
   "execution_count": null,
   "metadata": {},
   "outputs": [],
   "source": [
    "zwembadverkopen_noorderparkbad_df['addressid'].unique()\n",
    "print('There are ' +str(len(zwembadverkopen_noorderparkbad_df['addressid'].unique()))+ ' unique values for addressid.')\n",
    "\n",
    "print('\\nKeep or not?')"
   ]
  },
  {
   "cell_type": "markdown",
   "metadata": {},
   "source": [
    "#### Sales information"
   ]
  },
  {
   "cell_type": "code",
   "execution_count": null,
   "metadata": {},
   "outputs": [],
   "source": [
    "print('There are ' +str(len(zwembadverkopen_noorderparkbad_df['verkoop_datum'].unique()))+' unique dates.')\n",
    "print('There are ' +str(len(zwembadverkopen_noorderparkbad_df))+' unique sales.')\n",
    "\n",
    "print('There are some datetimes which refer to more than one sale.')"
   ]
  },
  {
   "cell_type": "code",
   "execution_count": null,
   "metadata": {},
   "outputs": [],
   "source": [
    "print('Verkoop_documenttype has two unique values: '+str(zwembadverkopen_noorderparkbad_df['verkoop_documenttype'].unique()))\n",
    "print('What do they mean?')"
   ]
  },
  {
   "cell_type": "code",
   "execution_count": null,
   "metadata": {},
   "outputs": [],
   "source": [
    "print('There are five verkooppunten: '+str(zwembadverkopen_noorderparkbad_df['verkoop_verkooppunt'].unique()))"
   ]
  },
  {
   "cell_type": "markdown",
   "metadata": {},
   "source": [
    "#### Aantal"
   ]
  },
  {
   "cell_type": "code",
   "execution_count": null,
   "metadata": {},
   "outputs": [],
   "source": [
    "print('The unique values of aantal are: ' + str(zwembadverkopen_noorderparkbad_df['aantal'].unique()))\n",
    "print('\\nWhy are there negative values?')\n",
    "print('Why are there many large numbers?')"
   ]
  },
  {
   "cell_type": "code",
   "execution_count": null,
   "metadata": {},
   "outputs": [],
   "source": [
    "zwembadverkopen_noorderparkbad_df[zwembadverkopen_noorderparkbad_df['aantal'] == 4599]\n",
    "\n",
    "#brian bekker vraag"
   ]
  },
  {
   "cell_type": "markdown",
   "metadata": {},
   "source": [
    "#### Prices"
   ]
  },
  {
   "cell_type": "code",
   "execution_count": null,
   "metadata": {},
   "outputs": [],
   "source": [
    "print(str(int(len(zwembadverkopen_noorderparkbad_df[zwembadverkopen_noorderparkbad_df['verkoopsregel_eenheidsprijs_(excl.)'] == 0])/len(zwembadverkopen_noorderparkbad_df)*100)) + '% of the prices ex btw are 0.')"
   ]
  },
  {
   "cell_type": "code",
   "execution_count": null,
   "metadata": {},
   "outputs": [],
   "source": [
    "print('We are not interested in the price ex btw. per unit sold')\n",
    "\n",
    "del zwembadverkopen_noorderparkbad_df['verkoopsregel_eenheidsprijs_(excl.)']"
   ]
  },
  {
   "cell_type": "code",
   "execution_count": null,
   "metadata": {},
   "outputs": [],
   "source": [
    "print(str(int(len(zwembadverkopen_noorderparkbad_df[zwembadverkopen_noorderparkbad_df['verkoopsregel_eenheidsprijs_(incl.)'] == 0])/len(zwembadverkopen_noorderparkbad_df)*100)) + '% of the prices in btw are 0.')"
   ]
  },
  {
   "cell_type": "code",
   "execution_count": null,
   "metadata": {},
   "outputs": [],
   "source": [
    "print('We are not interested in the price in btw. per unit sold')\n",
    "\n",
    "del zwembadverkopen_noorderparkbad_df['verkoopsregel_eenheidsprijs_(incl.)']"
   ]
  },
  {
   "cell_type": "code",
   "execution_count": null,
   "metadata": {},
   "outputs": [],
   "source": [
    "print('We are not interested in the tax amount.')\n",
    "\n",
    "del zwembadverkopen_noorderparkbad_df['verkoopsregel_btw_bedrag']"
   ]
  },
  {
   "cell_type": "code",
   "execution_count": null,
   "metadata": {},
   "outputs": [],
   "source": [
    "print(str(len(zwembadverkopen_noorderparkbad_df[zwembadverkopen_noorderparkbad_df['verkoopsregel_bedrag_korting'] == 0])/len(zwembadverkopen_noorderparkbad_df)*100) + '% of the sales are without discount.')\n",
    "print(str('We are thus not interested in this variable.'))\n",
    "\n",
    "del zwembadverkopen_noorderparkbad_df['verkoopsregel_bedrag_korting']"
   ]
  },
  {
   "cell_type": "code",
   "execution_count": null,
   "metadata": {},
   "outputs": [],
   "source": [
    "print(str(int(len(zwembadverkopen_noorderparkbad_df[zwembadverkopen_noorderparkbad_df['verkoopsregel_btw%'] == 0])/len(zwembadverkopen_noorderparkbad_df)*100)) + '% of the prices are with 0% taxes.')\n",
    "print(str(int(len(zwembadverkopen_noorderparkbad_df[zwembadverkopen_noorderparkbad_df['verkoopsregel_btw%'] == 6])/len(zwembadverkopen_noorderparkbad_df)*100)) + '% of the prices are with 6% taxes.')\n",
    "print(str(int(len(zwembadverkopen_noorderparkbad_df[zwembadverkopen_noorderparkbad_df['verkoopsregel_btw%'] == 21])/len(zwembadverkopen_noorderparkbad_df)*100)) + '% of the prices are with 21% taxes')"
   ]
  },
  {
   "cell_type": "code",
   "execution_count": null,
   "metadata": {},
   "outputs": [],
   "source": [
    "print(str(round((len(zwembadverkopen_noorderparkbad_df[zwembadverkopen_noorderparkbad_df['bedrag'] == 0])/len(zwembadverkopen_noorderparkbad_df))*100,2)) + '% of the sales are registered for 0 euro.')\n"
   ]
  },
  {
   "cell_type": "code",
   "execution_count": null,
   "metadata": {},
   "outputs": [],
   "source": [
    "print('We are not interested in the ex btw amount of the purchase.')\n",
    "\n",
    "del zwembadverkopen_noorderparkbad_df['verkoopsregel_totaal_bedrag_(excl.)']"
   ]
  },
  {
   "cell_type": "code",
   "execution_count": null,
   "metadata": {},
   "outputs": [],
   "source": [
    "print('We are not interested in the total btw %.')\n",
    "\n",
    "del zwembadverkopen_noorderparkbad_df['verkoopsregel_btw%']"
   ]
  },
  {
   "cell_type": "markdown",
   "metadata": {},
   "source": [
    "#### Accounting"
   ]
  },
  {
   "cell_type": "code",
   "execution_count": null,
   "metadata": {},
   "outputs": [],
   "source": [
    "print('There are three article divisions: '+str(zwembadverkopen_noorderparkbad_df['verkoopsregel_artikelafdeling'].unique()))\n",
    "\n",
    "print('What do these divisions mean?')\n",
    "\n",
    "# brian "
   ]
  },
  {
   "cell_type": "code",
   "execution_count": null,
   "metadata": {},
   "outputs": [],
   "source": [
    "print('There are six accounts : '+str(zwembadverkopen_noorderparkbad_df['verkoopsregel_grootboekrekening'].unique()))\n",
    "\n",
    "print('What do these accounts mean?')"
   ]
  },
  {
   "cell_type": "code",
   "execution_count": null,
   "metadata": {},
   "outputs": [],
   "source": [
    "print('There are three accounts : '+str(zwembadverkopen_noorderparkbad_df['verkoopsregel_kostenplaats'].unique()))\n",
    "\n",
    "print('Why are noorderparkbad sales accounted at Zuiderbad?')\n",
    "\n",
    "print('There are ' + str(len(zwembadverkopen_noorderparkbad_df[zwembadverkopen_noorderparkbad_df['verkoopsregel_kostenplaats'] == 'Zuiderbad'])) + ' sales at zuiderbad which are under the sales division Noorderparkbad.')\n",
    "\n",
    "print('Figure this out.')\n"
   ]
  },
  {
   "cell_type": "code",
   "execution_count": null,
   "metadata": {},
   "outputs": [],
   "source": [
    "zwembadverkopen_noorderparkbad_df[zwembadverkopen_noorderparkbad_df['verkoopsregel_kostenplaats'] == 'Zuiderbad']['artikelomschrijving'].unique()\n",
    "\n",
    "## Brian neerleggen"
   ]
  },
  {
   "cell_type": "code",
   "execution_count": null,
   "metadata": {},
   "outputs": [],
   "source": [
    "print('The sales division and its id are all for Noorderparkbad so these columns are deleted.')\n",
    "\n",
    "del zwembadverkopen_noorderparkbad_df['divisionid']\n",
    "del zwembadverkopen_noorderparkbad_df['verkoop_divisie']"
   ]
  },
  {
   "cell_type": "code",
   "execution_count": null,
   "metadata": {},
   "outputs": [],
   "source": [
    "print('There are three accounts : '+str(zwembadverkopen_noorderparkbad_df['verkoopsregel_artikelafdeling'].unique()))\n",
    "\n",
    "print('Why are noorderparkbad sales accounted at Zuiderbad?')\n",
    "\n",
    "print('There are ' + str(len(zwembadverkopen_noorderparkbad_df[zwembadverkopen_noorderparkbad_df['verkoopsregel_kostenplaats'] == 'Zuiderbad'])) + ' sales at zuiderbad which are under the sales division Noorderparkbad.')\n",
    "\n",
    "print('Figure this out.')\n"
   ]
  },
  {
   "cell_type": "markdown",
   "metadata": {},
   "source": [
    "#### Product"
   ]
  },
  {
   "cell_type": "code",
   "execution_count": null,
   "metadata": {},
   "outputs": [],
   "source": [
    "print('There are twelve article groups : '+str(zwembadverkopen_noorderparkbad_df['artikelgroep'].unique()))\n"
   ]
  },
  {
   "cell_type": "code",
   "execution_count": null,
   "metadata": {},
   "outputs": [],
   "source": [
    "print('There are twelve descriptions corresponding to these groups: '+str(zwembadverkopen_noorderparkbad_df['itemgroupdescription'].unique()))\n"
   ]
  },
  {
   "cell_type": "code",
   "execution_count": null,
   "metadata": {},
   "outputs": [],
   "source": [
    "print('There are ' + str(len(zwembadverkopen_noorderparkbad_df['verkoopsregel_artikelcode'].unique())) + ' article codes, with ' + str(len(zwembadverkopen_noorderparkbad_df['artikelomschrijving'].unique())) + ' article descriptions, and ' + str(len(zwembadverkopen_noorderparkbad_df['verkoopsregel_omschrijving'].unique())) + ' sale descriptions.')\n"
   ]
  },
  {
   "cell_type": "markdown",
   "metadata": {},
   "source": [
    "#### More identifiers"
   ]
  },
  {
   "cell_type": "code",
   "execution_count": null,
   "metadata": {},
   "outputs": [],
   "source": [
    "del zwembadverkopen_noorderparkbad_df['id']\n",
    "del zwembadverkopen_noorderparkbad_df['pointofsaleid']\n",
    "del zwembadverkopen_noorderparkbad_df['customerid']\n",
    "del zwembadverkopen_noorderparkbad_df['itemgroupid']\n",
    "del zwembadverkopen_noorderparkbad_df['glaccountid']\n",
    "del zwembadverkopen_noorderparkbad_df['itemdepartmentid']\n",
    "del zwembadverkopen_noorderparkbad_df['employeeid']"
   ]
  },
  {
   "cell_type": "code",
   "execution_count": null,
   "metadata": {},
   "outputs": [],
   "source": [
    "print('Only ' + str(len(zwembadverkopen_noorderparkbad_df[zwembadverkopen_noorderparkbad_df['factuur'] == True])) + ' sales have an invoice.')"
   ]
  },
  {
   "cell_type": "code",
   "execution_count": null,
   "metadata": {},
   "outputs": [],
   "source": [
    "zwembadverkopen_noorderparkbad_df[zwembadverkopen_noorderparkbad_df['verkoop_nummer'] == 165715]"
   ]
  },
  {
   "cell_type": "code",
   "execution_count": null,
   "metadata": {},
   "outputs": [],
   "source": [
    "print('There are ' + str(len(zwembadverkopen_noorderparkbad_df['verkoop_nummer'].unique())) + ' sale numbers.')\n",
    "print('Example below.')"
   ]
  },
  {
   "cell_type": "code",
   "execution_count": null,
   "metadata": {},
   "outputs": [],
   "source": [
    "print('There are ten sales percentages : '+str(zwembadverkopen_noorderparkbad_df['verkoopsregel_kortingspercentage'].unique()))\n",
    "\n",
    "print('Example below.')"
   ]
  },
  {
   "cell_type": "code",
   "execution_count": null,
   "metadata": {},
   "outputs": [],
   "source": [
    "zwembadverkopen_noorderparkbad_df[zwembadverkopen_noorderparkbad_df['verkoopsregel_kortingspercentage'] == 0]"
   ]
  },
  {
   "cell_type": "markdown",
   "metadata": {},
   "source": [
    "#### Shift data"
   ]
  },
  {
   "cell_type": "code",
   "execution_count": null,
   "metadata": {},
   "outputs": [],
   "source": [
    "print('Number of shifts: ' +str(len(zwembadverkopen_noorderparkbad_df['dienst_nummer'].unique())))\n",
    "print('This data is discarded for any further analysis (also the starting and end time of the shift).')\n",
    "\n",
    "del zwembadverkopen_noorderparkbad_df['dienst_nummer']\n",
    "del zwembadverkopen_noorderparkbad_df['dienst_starttijd']\n",
    "del zwembadverkopen_noorderparkbad_df['dienst_eindtijd']"
   ]
  },
  {
   "cell_type": "markdown",
   "metadata": {},
   "source": [
    "#### More sales data"
   ]
  },
  {
   "cell_type": "code",
   "execution_count": null,
   "metadata": {},
   "outputs": [],
   "source": [
    "print('The number of visitors is also discarded for further analysis. The 168 unique values for this variable are: '+ str(zwembadverkopen_noorderparkbad_df['verkoopsregel_#_bezoekers'].unique()))\n",
    "\n",
    "del zwembadverkopen_noorderparkbad_df['verkoopsregel_#_bezoekers']\n"
   ]
  },
  {
   "cell_type": "code",
   "execution_count": null,
   "metadata": {},
   "outputs": [],
   "source": [
    "print('There are seven descriptions for the accounts: '+str(zwembadverkopen_noorderparkbad_df['grootboekrekening_omschrijving'].unique()))\n",
    "\n",
    "print('Why does this number differ from the number of accounts found earlier?')"
   ]
  },
  {
   "cell_type": "code",
   "execution_count": null,
   "metadata": {},
   "outputs": [],
   "source": [
    "print('There are twelve codes for the discounts: '+str(zwembadverkopen_noorderparkbad_df['kortingscode_korting'].unique()))\n",
    "\n",
    "print('These numbers are not relevant so this column is deleted.')\n",
    "\n",
    "del zwembadverkopen_noorderparkbad_df['kortingscode_korting']"
   ]
  },
  {
   "cell_type": "markdown",
   "metadata": {},
   "source": [
    "#### Anonimized data"
   ]
  },
  {
   "cell_type": "code",
   "execution_count": null,
   "metadata": {},
   "outputs": [],
   "source": [
    "print('There are ' + str(round(zwembadverkopen_noorderparkbad_df['klant_leeftijd_groep'].isna().sum()/len(zwembadverkopen_noorderparkbad_df)*100,2)) + '% missing values for the age groups.')"
   ]
  },
  {
   "cell_type": "code",
   "execution_count": null,
   "metadata": {},
   "outputs": [],
   "source": [
    "print('There are ' + str(round(zwembadverkopen_noorderparkbad_df['buurt_code'].isna().sum()/len(zwembadverkopen_noorderparkbad_df)*100,2)) + '% missing values for the neighbourhood codes.')"
   ]
  },
  {
   "cell_type": "markdown",
   "metadata": {},
   "source": [
    "#### Final recap"
   ]
  },
  {
   "cell_type": "code",
   "execution_count": null,
   "metadata": {},
   "outputs": [],
   "source": [
    "for index, row in zwembadverkopen_noorderparkbad_df.iterrows():\n",
    "    for column in list(zwembadverkopen_noorderparkbad_df.columns):\n",
    "        print('Column name: ' + column)\n",
    "        print('Column value (first row): ' + str(row[column]))\n",
    "        print('Number of unique values in column: ' + str(len(zwembadverkopen_noorderparkbad_df[column].unique())))\n",
    "        print('Number of NaN values in column: ' + str(zwembadverkopen_noorderparkbad_df[column].isna().sum()))\n",
    "        print('\\n')\n",
    "    break\n",
    "    \n",
    "print('Remaining number of columns: ' +str(len(zwembadverkopen_noorderparkbad_df.columns)))"
   ]
  },
  {
   "cell_type": "code",
   "execution_count": null,
   "metadata": {},
   "outputs": [],
   "source": [
    "zwembadverkopen_noorderparkbad_df.to_excel('zwembadverkopen_noorderparkbad_21.xlsx')\n",
    "print('The dataframe has been saved as zwembadverkopen_noorderparkbad_21.xlsx')"
   ]
  },
  {
   "cell_type": "markdown",
   "metadata": {},
   "source": [
    "### Swimming pool visitors\n",
    "\n",
    "All columns are considered one by one."
   ]
  },
  {
   "cell_type": "code",
   "execution_count": null,
   "metadata": {},
   "outputs": [],
   "source": [
    "zwembadbezoekers_noorderparkbad_df = pd.read_excel('zwembadbezoekers_noorderparkbad.xlsx')"
   ]
  },
  {
   "cell_type": "code",
   "execution_count": null,
   "metadata": {},
   "outputs": [],
   "source": [
    "for index, row in zwembadbezoekers_noorderparkbad_df.iterrows():\n",
    "    for column in list(zwembadbezoekers_noorderparkbad_df.columns):\n",
    "        print('Column name: ' + column)\n",
    "        print('Column value (first row): ' + str(row[column]))\n",
    "        print('Number of unique values in column: ' + str(len(zwembadbezoekers_noorderparkbad_df[column].unique())))\n",
    "        print('Number of NaN values in column: ' + str(zwembadbezoekers_noorderparkbad_df[column].isna().sum()))\n",
    "        print('\\n')\n",
    "    break\n",
    "    \n",
    "print('There are ' + str(len(zwembadbezoekers_noorderparkbad_df.columns)) + ' columns.')"
   ]
  },
  {
   "cell_type": "markdown",
   "metadata": {},
   "source": [
    "#### First remove all columns with more than 50% nans"
   ]
  },
  {
   "cell_type": "code",
   "execution_count": null,
   "metadata": {},
   "outputs": [],
   "source": [
    "zwembadbezoekers_noorderparkbad_df['customercountry'].unique()"
   ]
  },
  {
   "cell_type": "code",
   "execution_count": null,
   "metadata": {},
   "outputs": [],
   "source": [
    "for column in list(zwembadbezoekers_noorderparkbad_df.columns):\n",
    "    if zwembadbezoekers_noorderparkbad_df[column].isna().sum() > len(zwembadbezoekers_noorderparkbad_df)/2:\n",
    "        print('The column: ' + str(column) + ' has been deleted.')\n",
    "        del zwembadbezoekers_noorderparkbad_df[column]"
   ]
  },
  {
   "cell_type": "markdown",
   "metadata": {},
   "source": [
    "#### Identifiers"
   ]
  },
  {
   "cell_type": "code",
   "execution_count": null,
   "metadata": {},
   "outputs": [],
   "source": [
    "del zwembadbezoekers_noorderparkbad_df['Unnamed: 0']\n",
    "del zwembadbezoekers_noorderparkbad_df['Unnamed: 0.1']"
   ]
  },
  {
   "cell_type": "code",
   "execution_count": null,
   "metadata": {},
   "outputs": [],
   "source": [
    "zwembadbezoekers_noorderparkbad_df['addressid'].unique()\n",
    "print('There are ' +str(len(zwembadbezoekers_noorderparkbad_df['addressid'].unique()))+ ' unique values for addressid.')\n",
    "\n",
    "print('\\nKeep or not?')"
   ]
  },
  {
   "cell_type": "code",
   "execution_count": null,
   "metadata": {},
   "outputs": [],
   "source": [
    "for index, row in zwembadbezoekers_noorderparkbad_df.iterrows():\n",
    "    for column in list(zwembadbezoekers_noorderparkbad_df.columns):\n",
    "        print('Column name: ' + column)\n",
    "        print('Column value (first row): ' + str(row[column]))\n",
    "        print('Number of unique values in column: ' + str(len(zwembadbezoekers_noorderparkbad_df[column].unique())))\n",
    "        print('Number of NaN values in column: ' + str(zwembadbezoekers_noorderparkbad_df[column].isna().sum()))\n",
    "        print('\\n')\n",
    "    break\n",
    "    \n",
    "print('There are ' + str(len(zwembadbezoekers_noorderparkbad_df.columns)) + ' columns.')"
   ]
  },
  {
   "cell_type": "markdown",
   "metadata": {},
   "source": [
    "#### Product"
   ]
  },
  {
   "cell_type": "code",
   "execution_count": null,
   "metadata": {},
   "outputs": [],
   "source": [
    "print('There are 180 different subscription articles: ' + str(zwembadbezoekers_noorderparkbad_df['abonnement_artikel'].unique()))"
   ]
  },
  {
   "cell_type": "code",
   "execution_count": null,
   "metadata": {},
   "outputs": [],
   "source": [
    "print('These subscription articles have 178 descriptions: ' + str(zwembadbezoekers_noorderparkbad_df['omschrijving_artikel'].unique()))\n"
   ]
  },
  {
   "cell_type": "code",
   "execution_count": null,
   "metadata": {},
   "outputs": [],
   "source": [
    "print('These subscriptions articles belong to one of nine article groups: ' + str(zwembadbezoekers_noorderparkbad_df['artikelgroep'].unique()))"
   ]
  },
  {
   "cell_type": "code",
   "execution_count": null,
   "metadata": {},
   "outputs": [],
   "source": [
    "print('These nine article groups have the following descriptions: ' + str(zwembadbezoekers_noorderparkbad_df['artikelgroep_omschrijving'].unique()))"
   ]
  },
  {
   "cell_type": "markdown",
   "metadata": {},
   "source": [
    "#### Logging and purchase data"
   ]
  },
  {
   "cell_type": "code",
   "execution_count": null,
   "metadata": {},
   "outputs": [],
   "source": [
    "print('Each observation has its own logging datetime.')"
   ]
  },
  {
   "cell_type": "code",
   "execution_count": null,
   "metadata": {},
   "outputs": [],
   "source": [
    "print('There are ' + str(len(zwembadbezoekers_noorderparkbad_df['purchasedate'].unique())) + ' unique purchase datetimes assigned to each logging.')\n",
    "\n",
    "print('\\tsidenote: there are ' + str(len(zwembadverkopen_noorderparkbad_df['verkoop_datum'].unique())) + ' unique purchase datetimes assigned to each sale.')"
   ]
  },
  {
   "cell_type": "code",
   "execution_count": null,
   "metadata": {},
   "outputs": [],
   "source": [
    "for index, row in zwembadbezoekers_noorderparkbad_df.iterrows():\n",
    "    for column in list(zwembadbezoekers_noorderparkbad_df.columns):\n",
    "        print('Column name: ' + column)\n",
    "        print('Column value (first row): ' + str(row[column]))\n",
    "        print('Number of unique values in column: ' + str(len(zwembadbezoekers_noorderparkbad_df[column].unique())))\n",
    "        print('Number of NaN values in column: ' + str(zwembadbezoekers_noorderparkbad_df[column].isna().sum()))\n",
    "        print('\\n')\n",
    "    break\n",
    "    \n",
    "print('There are ' + str(len(zwembadbezoekers_noorderparkbad_df.columns)) + ' columns.')"
   ]
  },
  {
   "cell_type": "markdown",
   "metadata": {},
   "source": [
    "#### Subscription data"
   ]
  },
  {
   "cell_type": "code",
   "execution_count": null,
   "metadata": {},
   "outputs": [],
   "source": [
    "zwembadbezoekers_noorderparkbad_df['abonnement_aantal_dagen_geldig'].hist()\n",
    "print('Subscription duration in days histogram')"
   ]
  },
  {
   "cell_type": "code",
   "execution_count": null,
   "metadata": {},
   "outputs": [],
   "source": [
    "zwembadbezoekers_noorderparkbad_df['abonnement_aantal_weken_geldig'].hist()\n",
    "print('Subscription duration in weeks histogram')"
   ]
  },
  {
   "cell_type": "code",
   "execution_count": null,
   "metadata": {},
   "outputs": [],
   "source": [
    "zwembadbezoekers_noorderparkbad_df['abonnement_aantal_maanden_geldig'].hist()\n",
    "print('Subscription duration in months histogram')"
   ]
  },
  {
   "cell_type": "code",
   "execution_count": null,
   "metadata": {},
   "outputs": [],
   "source": [
    "zwembadbezoekers_noorderparkbad_df['abonnement_#_beurten'].hist()\n",
    "print('Subscription number of entries histogram')"
   ]
  },
  {
   "cell_type": "markdown",
   "metadata": {},
   "source": [
    "#### More logging data"
   ]
  },
  {
   "cell_type": "code",
   "execution_count": null,
   "metadata": {},
   "outputs": [],
   "source": [
    "print('Number of entries reduced: ' + str(zwembadbezoekers_noorderparkbad_df['logging_#_beurten_afgewaardeerd'].unique()))\n",
    "del zwembadbezoekers_noorderparkbad_df['logging_#_beurten_afgewaardeerd']\n",
    "print('This column is deleted.')"
   ]
  },
  {
   "cell_type": "code",
   "execution_count": null,
   "metadata": {},
   "outputs": [],
   "source": [
    "print('Remaining number of entries: ' + str(zwembadbezoekers_noorderparkbad_df['logging_#_rest._beurten'].unique()))\n",
    "del zwembadbezoekers_noorderparkbad_df['logging_#_rest._beurten']\n",
    "print('This column is deleted.')"
   ]
  },
  {
   "cell_type": "code",
   "execution_count": null,
   "metadata": {},
   "outputs": [],
   "source": [
    "print('Remaining number of days')\n",
    "zwembadbezoekers_noorderparkbad_df['logging_#_rest._dagen'].hist()\n",
    "del zwembadbezoekers_noorderparkbad_df['logging_#_rest._dagen']\n",
    "print('This column is deleted.')"
   ]
  },
  {
   "cell_type": "code",
   "execution_count": null,
   "metadata": {},
   "outputs": [],
   "source": [
    "print('Number of visitors: '  + str(zwembadbezoekers_noorderparkbad_df['logging_#_bezoekers'].unique()))\n",
    "print('Why are there negative numbers? And such large numbers?')\n",
    "print('This column is deleted.')\n",
    "del zwembadbezoekers_noorderparkbad_df['logging_#_bezoekers']"
   ]
  },
  {
   "cell_type": "code",
   "execution_count": null,
   "metadata": {},
   "outputs": [],
   "source": [
    "print('The unique divisions: ' + zwembadbezoekers_noorderparkbad_df['logging_divisie'].unique())"
   ]
  },
  {
   "cell_type": "code",
   "execution_count": null,
   "metadata": {},
   "outputs": [],
   "source": [
    "print(str(len(zwembadbezoekers_noorderparkbad_df[zwembadbezoekers_noorderparkbad_df['logging_divisie'] == 'NOORDERPARKBAD'])) + ' entries are from the Noorderparkbad. ')"
   ]
  },
  {
   "cell_type": "code",
   "execution_count": null,
   "metadata": {},
   "outputs": [],
   "source": [
    "print(str(len(zwembadbezoekers_noorderparkbad_df[zwembadbezoekers_noorderparkbad_df['logging_divisie'] == 'NOORDERPARKBAD'])) + ' entries are from the Noorderparkbad. ')\n",
    "print(str(len(zwembadbezoekers_noorderparkbad_df[zwembadbezoekers_noorderparkbad_df['logging_divisie'] == 'HET ZUIDERBAD'])) + ' entries are from the Zuiderbad. ')\n",
    "print(str(len(zwembadbezoekers_noorderparkbad_df[zwembadbezoekers_noorderparkbad_df['logging_divisie'] == 'DE MIRANDABAD'])) + ' entries are from the Mirandabad. ')\n",
    "print(str(len(zwembadbezoekers_noorderparkbad_df[zwembadbezoekers_noorderparkbad_df['logging_divisie'] == 'FLEVOPARKBAD'])) + ' entries are from the Flevoparkbad. ')\n",
    "\n",
    "zwembadbezoekers_noorderparkbad_df = zwembadbezoekers_noorderparkbad_df[zwembadbezoekers_noorderparkbad_df['logging_divisie'] == 'NOORDERPARKBAD']\n",
    "\n",
    "print('\\nRemoved all entries other than the Noorderparkbad.')"
   ]
  },
  {
   "cell_type": "code",
   "execution_count": null,
   "metadata": {},
   "outputs": [],
   "source": [
    "print(len(zwembad_bezoekers_df[zwembad_bezoekers_df['logging_divisie'] == 'NOORDERPARKBAD']))\n",
    "print(len(zwembadbezoekers_noorderparkbad_df[zwembadbezoekers_noorderparkbad_df['logging_divisie'] == 'NOORDERPARKBAD']))\n",
    "\n",
    "#brian checken"
   ]
  },
  {
   "cell_type": "markdown",
   "metadata": {},
   "source": [
    "#### More identifiers "
   ]
  },
  {
   "cell_type": "code",
   "execution_count": null,
   "metadata": {},
   "outputs": [],
   "source": [
    "print('The following columns are redundant because this information is also in the other columns.')\n",
    "del zwembadbezoekers_noorderparkbad_df['id']\n",
    "print('The column id has been removed.')\n",
    "del zwembadbezoekers_noorderparkbad_df['zipcodeid']\n",
    "print('The column zipcodeid has been removed.')\n",
    "del zwembadbezoekers_noorderparkbad_df['divisionid']\n",
    "print('The column divisionid has been removed.')\n",
    "del zwembadbezoekers_noorderparkbad_df['itemid']\n",
    "print('The column itemid has been removed.')"
   ]
  },
  {
   "cell_type": "markdown",
   "metadata": {},
   "source": [
    "#### More article data"
   ]
  },
  {
   "cell_type": "code",
   "execution_count": null,
   "metadata": {},
   "outputs": [],
   "source": [
    "print('Prices range between :' +str(zwembadbezoekers_noorderparkbad_df['abonnement_artikelprijs_incl._btw'].min()) +' and '+str(zwembadbezoekers_noorderparkbad_df['abonnement_artikelprijs_incl._btw'].max()))\n",
    "print('Why are there negative values? Are these deductions?')"
   ]
  },
  {
   "cell_type": "code",
   "execution_count": null,
   "metadata": {},
   "outputs": [],
   "source": [
    "print('Article group codes: ' + str(zwembadbezoekers_noorderparkbad_df['artikelafdeling_code'].unique()))\n",
    "print('Delete this column because it only has one value.')\n",
    "del zwembadbezoekers_noorderparkbad_df['artikelafdeling_code']"
   ]
  },
  {
   "cell_type": "code",
   "execution_count": null,
   "metadata": {},
   "outputs": [],
   "source": [
    "print('Article group code descriptions: ' + str(zwembadbezoekers_noorderparkbad_df['artikelafdeling_omschrijving'].unique()))\n",
    "print('Delete this column because it only has one value.')\n",
    "del zwembadbezoekers_noorderparkbad_df['artikelafdeling_omschrijving']"
   ]
  },
  {
   "cell_type": "markdown",
   "metadata": {},
   "source": [
    "#### Salespoint"
   ]
  },
  {
   "cell_type": "code",
   "execution_count": null,
   "metadata": {},
   "outputs": [],
   "source": [
    "print('Sales points: ' + str(zwembadbezoekers_noorderparkbad_df['verkooppunt'].unique()))"
   ]
  },
  {
   "cell_type": "markdown",
   "metadata": {},
   "source": [
    "#### More subscription data"
   ]
  },
  {
   "cell_type": "code",
   "execution_count": null,
   "metadata": {},
   "outputs": [],
   "source": [
    "print('There is data about the start and end of the subscriptions for ' + str(zwembadbezoekers_noorderparkbad_df['sub_scription_start_date'].isna().sum()) + ' entries. This accounts for ' + str(round(zwembadbezoekers_noorderparkbad_df['sub_scription_start_date'].isna().sum()/len(zwembadbezoekers_noorderparkbad_df)*100,2)) + '% of all observations')\n",
    "\n"
   ]
  },
  {
   "cell_type": "markdown",
   "metadata": {},
   "source": [
    "#### Country"
   ]
  },
  {
   "cell_type": "code",
   "execution_count": null,
   "metadata": {},
   "outputs": [],
   "source": [
    "print(str(round(len(zwembadbezoekers_noorderparkbad_df[zwembadbezoekers_noorderparkbad_df['country'] == 'Nederland'])/len(zwembadbezoekers_noorderparkbad_df), 2)*100)+' % of the visitors are from Nederland.')\n",
    "\n"
   ]
  },
  {
   "cell_type": "markdown",
   "metadata": {},
   "source": [
    "#### Access groups"
   ]
  },
  {
   "cell_type": "code",
   "execution_count": null,
   "metadata": {},
   "outputs": [],
   "source": [
    "print('There are 16 access groups: ' + str(zwembadbezoekers_noorderparkbad_df['toegangsgroep'].unique()))"
   ]
  },
  {
   "cell_type": "markdown",
   "metadata": {},
   "source": [
    "#### Division data"
   ]
  },
  {
   "cell_type": "code",
   "execution_count": null,
   "metadata": {},
   "outputs": [],
   "source": [
    "print('There are two purchase divisions: ' + str(zwembadbezoekers_noorderparkbad_df['purchasedivision'].unique()))\n",
    "print('Number of entries for Noorderparkbad: ' + str(len(zwembadbezoekers_noorderparkbad_df[zwembadbezoekers_noorderparkbad_df['purchasedivision'] == 'NOORDERPARKBAD'])))\n",
    "print('Number of entries for Floraparkbad: ' + str(len(zwembadbezoekers_noorderparkbad_df[zwembadbezoekers_noorderparkbad_df['purchasedivision'] == 'Floraparkbad'])))\n",
    "print('Is there a reason that it is sometimes accounted as Floraparkbad?')"
   ]
  },
  {
   "cell_type": "markdown",
   "metadata": {},
   "source": [
    "#### Anonimzed data"
   ]
  },
  {
   "cell_type": "code",
   "execution_count": null,
   "metadata": {},
   "outputs": [],
   "source": [
    "print('There are ' + str(round(zwembadbezoekers_noorderparkbad_df['klant_leeftijd_groep'].isna().sum()/len(zwembadbezoekers_noorderparkbad_df)*100,2)) + '% missing values for the age groups.')"
   ]
  },
  {
   "cell_type": "code",
   "execution_count": null,
   "metadata": {},
   "outputs": [],
   "source": [
    "print('There are ' + str(round(zwembadbezoekers_noorderparkbad_df['buurt_code'].isna().sum()/len(zwembadbezoekers_noorderparkbad_df)*100,2)) + '% missing values for the neighbourhood codes.')"
   ]
  },
  {
   "cell_type": "markdown",
   "metadata": {},
   "source": [
    "#### Final recap"
   ]
  },
  {
   "cell_type": "code",
   "execution_count": null,
   "metadata": {},
   "outputs": [],
   "source": [
    "for index, row in zwembadbezoekers_noorderparkbad_df.iterrows():\n",
    "    for column in list(zwembadbezoekers_noorderparkbad_df.columns):\n",
    "        print('Column name: ' + column)\n",
    "        print('Column value (first row): ' + str(row[column]))\n",
    "        print('Number of unique values in column: ' + str(len(zwembadbezoekers_noorderparkbad_df[column].unique())))\n",
    "        print('Number of NaN values in column: ' + str(zwembadbezoekers_noorderparkbad_df[column].isna().sum()))\n",
    "        print('\\n')\n",
    "    break\n",
    "    \n",
    "print('Remaining number of columns: ' +str(len(zwembadbezoekers_noorderparkbad_df.columns)))"
   ]
  },
  {
   "cell_type": "code",
   "execution_count": null,
   "metadata": {},
   "outputs": [],
   "source": [
    "zwembadbezoekers_noorderparkbad_df.to_excel('zwembadbezoekers_noorderparkbad_21.xlsx')\n",
    "print('The dataframe has been saved as zwembadbezoekers_noorderparkbad_21.xlsx')"
   ]
  },
  {
   "cell_type": "code",
   "execution_count": null,
   "metadata": {},
   "outputs": [],
   "source": []
  }
 ],
 "metadata": {
  "kernelspec": {
   "display_name": "Python 3",
   "language": "python",
   "name": "python3"
  },
  "language_info": {
   "codemirror_mode": {
    "name": "ipython",
    "version": 3
   },
   "file_extension": ".py",
   "mimetype": "text/x-python",
   "name": "python",
   "nbconvert_exporter": "python",
   "pygments_lexer": "ipython3",
   "version": "3.7.4"
  }
 },
 "nbformat": 4,
 "nbformat_minor": 2
}
