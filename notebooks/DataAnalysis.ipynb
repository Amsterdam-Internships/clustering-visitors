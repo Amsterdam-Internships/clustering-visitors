{
 "cells": [
  {
   "cell_type": "code",
   "execution_count": null,
   "metadata": {},
   "outputs": [],
   "source": [
    "import pandas as pd\n",
    "import matplotlib.pyplot as plt\n",
    "%matplotlib inline"
   ]
  },
  {
   "cell_type": "markdown",
   "metadata": {},
   "source": [
    "## Zwembadbezoekers"
   ]
  },
  {
   "cell_type": "code",
   "execution_count": null,
   "metadata": {},
   "outputs": [],
   "source": [
    "zwembadbezoekers_df = pd.read_excel('zwembadbezoekers_noorderparkbad_21.xlsx')\n",
    "\n",
    "# remove this column because it doesn't add any value\n",
    "del zwembadbezoekers_df['Unnamed: 0']\n",
    "\n",
    "# delete the column since it has only one value\n",
    "del zwembadbezoekers_df['logging_divisie']"
   ]
  },
  {
   "cell_type": "code",
   "execution_count": null,
   "metadata": {
    "scrolled": true
   },
   "outputs": [],
   "source": [
    "print('There are ' + str(len(zwembadbezoekers_df)) + ' loggings with ' + str(len(zwembadbezoekers_df.columns)) + ' columns.')"
   ]
  },
  {
   "cell_type": "code",
   "execution_count": null,
   "metadata": {},
   "outputs": [],
   "source": [
    "for index, row in zwembadbezoekers_df.iterrows():\n",
    "    for column in list(zwembadbezoekers_df.columns):\n",
    "        print('Column name: ' + column)\n",
    "        print('Column value (first row): ' + str(row[column]))\n",
    "        print('Number of unique values in column: ' + str(len(zwembadbezoekers_df[column].unique())))\n",
    "        print('Number of NaN values in column: ' + str(zwembadbezoekers_df[column].isna().sum()))\n",
    "        print('\\n')\n",
    "    break\n",
    "    \n",
    "print('Remaining number of columns: ' +str(len(zwembadbezoekers_df.columns)))"
   ]
  },
  {
   "cell_type": "markdown",
   "metadata": {},
   "source": [
    "### Addressid"
   ]
  },
  {
   "cell_type": "code",
   "execution_count": null,
   "metadata": {},
   "outputs": [],
   "source": [
    "print('YES')"
   ]
  },
  {
   "cell_type": "markdown",
   "metadata": {},
   "source": [
    "### Date data"
   ]
  },
  {
   "cell_type": "code",
   "execution_count": null,
   "metadata": {},
   "outputs": [],
   "source": [
    "print('For each observation, there is a purchase and logging datetime. These have different formats so I have reformated them.')\n",
    "\n",
    "# Classify date column by format type\n",
    "zwembadbezoekers_df['format'] = 1\n",
    "zwembadbezoekers_df.loc[zwembadbezoekers_df['logging_creatiedatum'].str.contains('.'), 'format'] = 2\n",
    "zwembadbezoekers_df['logging_date'] = pd.to_datetime(zwembadbezoekers_df['logging_creatiedatum'])\n",
    "\n",
    "# Convert to datetime with two different format settings\n",
    "zwembadbezoekers_df.loc[zwembadbezoekers_df['format'] == 1, 'logging_date'] = pd.to_datetime(zwembadbezoekers_df.loc[zwembadbezoekers_df['format'] == 1, 'logging_creatiedatum'], format = '%Y-%m-%d %H:%M:%S').dt.strftime('%Y-%m-%d %H:%M:%S')\n",
    "zwembadbezoekers_df.loc[zwembadbezoekers_df['format'] == 2, 'logging_date'] = pd.to_datetime(zwembadbezoekers_df.loc[zwembadbezoekers_df['format'] == 2, 'logging_creatiedatum'], format = '%Y-%m-%d %H:%M:%S.%f').dt.strftime('%Y-%m-%d %H:%M:%S')\n",
    "\n",
    "del zwembadbezoekers_df['logging_creatiedatum']\n",
    "del zwembadbezoekers_df['format']\n",
    "\n",
    "# Classify date column by format type\n",
    "zwembadbezoekers_df['format'] = 1\n",
    "zwembadbezoekers_df.loc[zwembadbezoekers_df['purchasedate'].str.contains('.'), 'format'] = 2\n",
    "zwembadbezoekers_df['purchase_date'] = pd.to_datetime(zwembadbezoekers_df['purchasedate'])\n",
    "\n",
    "# Convert to datetime with two different format settings\n",
    "zwembadbezoekers_df.loc[zwembadbezoekers_df['format'] == 1, 'purchase_date'] = pd.to_datetime(zwembadbezoekers_df.loc[zwembadbezoekers_df['format'] == 1, 'purchasedate'], format = '%Y-%m-%d %H:%M:%S').dt.strftime('%Y-%m-%d %H:%M:%S')\n",
    "zwembadbezoekers_df.loc[zwembadbezoekers_df['format'] == 2, 'purchase_date'] = pd.to_datetime(zwembadbezoekers_df.loc[zwembadbezoekers_df['format'] == 2, 'purchasedate'], format = '%Y-%m-%d %H:%M:%S.%f').dt.strftime('%Y-%m-%d %H:%M:%S')\n",
    "\n",
    "del zwembadbezoekers_df['purchasedate']\n",
    "del zwembadbezoekers_df['format']"
   ]
  },
  {
   "cell_type": "code",
   "execution_count": null,
   "metadata": {},
   "outputs": [],
   "source": [
    "zwembadbezoekers_df['purchase_date'] =  pd.to_datetime(zwembadbezoekers_df['purchase_date'], format='%Y-%m-%d %H:%M:%S')\n",
    "zwembadbezoekers_df['logging_date'] =  pd.to_datetime(zwembadbezoekers_df['logging_date'], format='%Y-%m-%d %H:%M:%S')\n"
   ]
  },
  {
   "cell_type": "code",
   "execution_count": null,
   "metadata": {},
   "outputs": [],
   "source": [
    "%%time\n",
    "\n",
    "plt.hist(zwembadbezoekers_df['purchase_date'].dt.year)\n",
    "plt.title('Aantal verkochte artikelen per jaar')\n",
    "plt.show()\n",
    "\n",
    "\n",
    "plt.hist(zwembadbezoekers_df['logging_date'].dt.year)\n",
    "plt.title('Aantal bezoeken per jaar')\n",
    "plt.xticks([2017,2018, 2019,2020])\n",
    "plt.show()\n",
    "\n",
    "plt.hist(zwembadbezoekers_df['purchase_date'].dt.month)\n",
    "plt.title('Verdeling van de verkochte artikelen over de maanden')\n",
    "plt.xticks([x for x in range(1, 13)], ['Januari', 'Februari', 'Maart', 'April', 'Mei', 'Juni', 'Juli', 'Augustus', 'September', 'Oktober', 'November', 'December'], rotation=90)\n",
    "plt.show()\n",
    "\n",
    "\n",
    "plt.hist(zwembadbezoekers_df['logging_date'].dt.month)\n",
    "plt.title('Verdeling van de bezoeken over de maanden')\n",
    "plt.xticks([x for x in range(1, 13)], ['Januari', 'Februari', 'Maart', 'April', 'Mei', 'Juni', 'Juli', 'Augustus', 'September', 'Oktober', 'November', 'December'], rotation=90)\n",
    "plt.show()\n"
   ]
  },
  {
   "cell_type": "code",
   "execution_count": null,
   "metadata": {},
   "outputs": [],
   "source": [
    "print('Find max loggings and purchases on a given day/datetime')"
   ]
  },
  {
   "cell_type": "code",
   "execution_count": null,
   "metadata": {},
   "outputs": [],
   "source": [
    "plt.hist(zwembadbezoekers_df['logging_date'].dt.month)\n",
    "plt.title('Distribution of the loggings per month')\n",
    "plt.xticks([x for x in range(1, 13)], ['January', 'February', 'March', 'April', 'May', 'June', 'July', 'August', 'September', 'October', 'November', 'December'], rotation=90)\n",
    "plt.show()"
   ]
  },
  {
   "cell_type": "markdown",
   "metadata": {},
   "source": [
    "### Articles: \n",
    "\n",
    "    abonnement_artikel\n",
    "    artikel_omschrijving\n",
    "    artikelgroep\n",
    "    artikelgroep_omschrijving"
   ]
  },
  {
   "cell_type": "markdown",
   "metadata": {},
   "source": [
    "#### Subscription article and its description: abonnement_artikel + artikel_omschrijving"
   ]
  },
  {
   "cell_type": "code",
   "execution_count": null,
   "metadata": {},
   "outputs": [],
   "source": [
    "# Create a dataframe with the amount of sales per article group\n",
    "\n",
    "artikelen, artikelen_len = [], []\n",
    "\n",
    "for artikel, artikel_df in zwembadbezoekers_df.groupby('abonnement+omschrijving'):\n",
    "    artikelen.append(artikel)\n",
    "    artikelen_len.append(len(artikel_df))\n",
    "    \n",
    "abonnement_artikelen_df = pd.DataFrame({'Abonnement artikel':artikelen, 'Aantal verkocht': artikelen_len})\n",
    "\n",
    "plt.hist(abonnement_artikelen_df['Aantal verkocht'], bins=400)\n",
    "plt.title('Distribution of amount of units sold per article')\n",
    "plt.show()\n",
    "\n",
    "print('As we can see most articles are sold between 1 and 1000 times. ')\n",
    "\n",
    "plt.hist(abonnement_artikelen_df['Aantal verkocht'], bins=400)\n",
    "plt.title('Distribution of amount of articles sold per article (1-1000 sales)')\n",
    "plt.xlim(0, 1000)\n",
    "plt.show()\n",
    "\n",
    "\n",
    "# Count amount of variables under a thousand sales and how much of total sales.\n",
    "count = 0\n",
    "total_sales = 0\n",
    "\n",
    "for artikel, artikel_df in zwembadbezoekers_df.groupby('abonnement+omschrijving'):\n",
    "    if len(artikel_df) < 1000: \n",
    "        #print(artikel)\n",
    "        #print(artikel_df['omschrijving_artikel'].unique())\n",
    "        total_sales += (len(artikel_df))\n",
    "        count += 1\n",
    "    \n",
    "print('127 out of 180 articles are sold between once and a thousand times. These account for ' + str(round(total_sales/len(zwembadbezoekers_df)*100, 2)) + '% of total sales.')\n",
    "\n",
    "plt.hist(abonnement_artikelen_df['Aantal verkocht'], bins=400)\n",
    "plt.title('Verdeling van het aantal artikelen verkocht per artikel (1000 - 80000 verkochte artikelen)')\n",
    "plt.xlim(1000, 80000)\n",
    "plt.ylim(0,5)\n",
    "plt.show()\n",
    "\n",
    "print('The remaining 53 articles account for the remaining 95% of the sales.')\n",
    "\n",
    "pareto_20_80 = round((abonnement_artikelen_df.sort_values('Aantal verkocht')[-36:]['Aantal verkocht'].sum()/len(zwembadbezoekers_df))*100,2)\n",
    "\n",
    " \n",
    "print('\\nActually the article sales almost follow a pareto distribution in which the top 20% (36) most sold products account for ' + str(pareto_20_80) + '% of all sales.')\n",
    "\n"
   ]
  },
  {
   "cell_type": "code",
   "execution_count": null,
   "metadata": {},
   "outputs": [],
   "source": [
    "abonnement_artikelen_df.sort_values('Aantal verkocht', ascending=False).head(10)"
   ]
  },
  {
   "cell_type": "code",
   "execution_count": null,
   "metadata": {},
   "outputs": [],
   "source": [
    "abonnement_artikelen_df.sort_values('Aantal verkocht', ascending=False)"
   ]
  },
  {
   "cell_type": "code",
   "execution_count": null,
   "metadata": {},
   "outputs": [],
   "source": [
    "# welke artikelen zijn dit nou?"
   ]
  },
  {
   "cell_type": "code",
   "execution_count": null,
   "metadata": {},
   "outputs": [],
   "source": [
    "print('I choose to keep this data as it is, but I combine the article with its description into one column in order to reduce the amount of columns.')\n",
    "\n",
    "zwembadbezoekers_df['abonnement+omschrijving'] = zwembadbezoekers_df['abonnement_artikel'] + '_:_' + zwembadbezoekers_df['omschrijving_artikel'] \n",
    "\n",
    "del zwembadbezoekers_df['abonnement_artikel']\n",
    "del zwembadbezoekers_df['omschrijving_artikel'] "
   ]
  },
  {
   "cell_type": "code",
   "execution_count": null,
   "metadata": {},
   "outputs": [],
   "source": [
    "# Create a dataframe with the amount of sales per article group\n",
    "\n",
    "artikelgroepen, artikelgroepen_len = [], []\n",
    "\n",
    "for artikelgroep, artikelgroep_df in zwembadbezoekers_df.groupby('artikelgroep+omschrijving'):\n",
    "    artikelgroepen.append(artikelgroep)\n",
    "    artikelgroepen_len.append(len(artikelgroep_df))\n",
    "    \n",
    "artikelgroepen_df = pd.DataFrame({'Artikel groep':artikelgroepen, 'Aantal verkocht': artikelgroepen_len})\n",
    "\n",
    "artikelgroepen_df = artikelgroepen_df.sort_values('Aantal verkocht', ascending=False)\n",
    "\n",
    "plt.bar(artikelgroepen_df['Artikel groep'], artikelgroepen_df['Aantal verkocht'])\n",
    "plt.xticks(rotation=90)\n",
    "plt.title('Aantal verkochte artikelen per artikel groep')\n",
    "plt.show()\n",
    "\n",
    "pareto_20_80 = round((artikelgroepen_df.sort_values('Aantal verkocht')[-2:]['Aantal verkocht'].sum()/len(zwembadbezoekers_df))*100,2)\n",
    "\n",
    "print('As we can see the article groups logically also follow an approximate pareto distribution. Actually, the two article groups NPB-01 and NPB-02 account for ' + str(pareto_20_80) + '% of total articles used/sold.')\n"
   ]
  },
  {
   "cell_type": "code",
   "execution_count": null,
   "metadata": {},
   "outputs": [],
   "source": [
    "artikelgroepen_df.sort_values('Aantal verkocht')[:-1]"
   ]
  },
  {
   "cell_type": "code",
   "execution_count": null,
   "metadata": {},
   "outputs": [],
   "source": [
    "round((artikelgroepen_df.sort_values('Aantal verkocht')[-2:]['Aantal verkocht'].sum()/len(zwembadbezoekers_df))*100,2)"
   ]
  },
  {
   "cell_type": "code",
   "execution_count": null,
   "metadata": {},
   "outputs": [],
   "source": [
    "print('I choose to keep this data as it is, but I combine the articlegroup with its description into one column in order to reduce the amount of columns.')\n",
    "\n",
    "zwembadbezoekers_df['artikelgroep+omschrijving'] = zwembadbezoekers_df['artikelgroep'] + '_:_' + zwembadbezoekers_df['artikelgroep_omschrijving'] \n",
    "\n",
    "del zwembadbezoekers_df['artikelgroep']\n",
    "del zwembadbezoekers_df['artikelgroep_omschrijving'] "
   ]
  },
  {
   "cell_type": "markdown",
   "metadata": {},
   "source": [
    "### Subscription data"
   ]
  },
  {
   "cell_type": "code",
   "execution_count": null,
   "metadata": {},
   "outputs": [],
   "source": [
    "print(str(round(zwembadbezoekers_df[\"abonnement_#_beurten\"].isna().sum()/len(zwembadbezoekers_df)*100,2))+ '% of data is missing for the number of days, weeks or months (or amount) of entries remaining.')\n",
    "\n",
    "# checking the data by zwembadbezoekers_df[zwembadbezoekers_df['abonnement_#_beurten'].isna()]['abonnement+omschrijving'].unique()\n",
    "\n",
    "print('\\nAfter checking, this data concerns single entries to the swimming pool. Thus, I choose to merge the days, weeks and months into a single column and add one if the data is missing for the days as well as the number of entries.')\n",
    "\n"
   ]
  },
  {
   "cell_type": "code",
   "execution_count": null,
   "metadata": {},
   "outputs": [],
   "source": [
    "zwembadbezoekers_df['abonnement_dagen'] = zwembadbezoekers_df['abonnement_aantal_dagen_geldig'] + zwembadbezoekers_df['abonnement_aantal_weken_geldig']*7 + zwembadbezoekers_df['abonnement_aantal_maanden_geldig']*30\n",
    "zwembadbezoekers_df['abonnement_beurten'] = zwembadbezoekers_df['abonnement_#_beurten']\n",
    "\n",
    "zwembadbezoekers_df['abonnement_dagen'] = zwembadbezoekers_df['abonnement_dagen'].fillna(1)\n",
    "zwembadbezoekers_df['abonnement_beurten'] = zwembadbezoekers_df['abonnement_beurten'].fillna(0)\n",
    "\n",
    "del zwembadbezoekers_df['abonnement_aantal_dagen_geldig'] \n",
    "del zwembadbezoekers_df['abonnement_aantal_weken_geldig']\n",
    "del zwembadbezoekers_df['abonnement_aantal_maanden_geldig']\n",
    "del zwembadbezoekers_df['abonnement_#_beurten']"
   ]
  },
  {
   "cell_type": "code",
   "execution_count": null,
   "metadata": {},
   "outputs": [],
   "source": [
    "print(str(round(zwembadbezoekers_df[\"verkooppunt\"].isna().sum()/len(zwembadbezoekers_df)*100,2))+ '% of data is missing for the salespoint.')\n",
    "\n",
    "\n",
    "print(str(round(zwembadbezoekers_df[\"abonnement_artikelprijs_incl._btw\"].isna().sum()/len(zwembadbezoekers_df)*100,2))+ '% of data is missing for the price per article.')\n",
    "\n",
    "print('\\nShould I discard this data?\\n')\n",
    "\n",
    "print(str(round(zwembadbezoekers_df[\"sub_scription_start_date\"].isna().sum()/len(zwembadbezoekers_df)*100,2))+ '% of data is missing for subscription start and end dates.')\n",
    "print('I choose to discard the start and end dates, since it does not any relevant information for this study.')\n",
    "\n",
    "del zwembadbezoekers_df[\"sub_scription_start_date\"]\n",
    "del zwembadbezoekers_df[\"subscription_end_date\"]\n",
    "del zwembadbezoekers_df[\"verkooppunt\"]\n",
    "del zwembadbezoekers_df[\"abonnement_artikelprijs_incl._btw\"]\n"
   ]
  },
  {
   "cell_type": "code",
   "execution_count": null,
   "metadata": {},
   "outputs": [],
   "source": [
    "toegangsgroepen, toegangsgroepen_observations = [], []\n",
    "\n",
    "for groep, groep_df in zwembadbezoekers_df.groupby('toegangsgroep'):\n",
    "    toegangsgroepen.append(groep)\n",
    "    toegangsgroepen_observations.append(len(groep_df))\n",
    "    \n",
    "toegangsgroep_df = pd.DataFrame({'Toegangsgroep':toegangsgroepen, 'Aantallen': toegangsgroepen_observations})\n",
    "\n",
    "toegangsgroep_df = toegangsgroep_df.sort_values('Aantallen')\n",
    "\n",
    "plt.bar(toegangsgroep_df['Toegangsgroep'], toegangsgroep_df['Aantallen'])\n",
    "plt.xticks(rotation=90)\n",
    "plt.title('Aantal bezoeken per toegangsgroep')\n",
    "\n",
    "plt.show()"
   ]
  },
  {
   "cell_type": "code",
   "execution_count": null,
   "metadata": {},
   "outputs": [],
   "source": [
    "zwembadbezoekers_df[zwembadbezoekers_df['country'].isna()"
   ]
  },
  {
   "cell_type": "code",
   "execution_count": null,
   "metadata": {},
   "outputs": [],
   "source": [
    "print('I chose to remove the country data since it does not add any new information. \\nThere are ' + str(round(zwembadbezoekers_df['country'].isna().sum()/len(zwembadbezoekers_df)*100,2)) + '% missing values. A quick view at these missing values reveal that many are tied to an association, which probably means these visitors were also from The Netherlands.')\n",
    "      \n",
    "del zwembadbezoekers_df['country']      "
   ]
  },
  {
   "cell_type": "code",
   "execution_count": null,
   "metadata": {},
   "outputs": [],
   "source": [
    "buurten, buurten_observations = [], []\n",
    "\n",
    "for buurt, buurt_df in zwembadbezoekers_df.groupby('buurt_code'):\n",
    "    buurten.append(buurt)\n",
    "    buurten_observations.append(len(buurt_df))\n",
    "    \n",
    "buurten_df = pd.DataFrame({'Neighbourhood':buurten, 'Aantallen':buurten_observations})\n",
    "    \n",
    "buurten_df = buurten_df.sort_values('Aantallen')[-34:]\n",
    "\n",
    "plt.bar(buurten_df['Neighbourhood'], buurten_df['Aantallen'])\n",
    "plt.xticks(rotation=90)\n",
    "plt.title('Top 20% of number of entries per neighbourhood')\n",
    "\n",
    "plt.show()\n"
   ]
  },
  {
   "cell_type": "code",
   "execution_count": null,
   "metadata": {},
   "outputs": [],
   "source": [
    "# buurtcodes naar wijken transformeren"
   ]
  },
  {
   "cell_type": "code",
   "execution_count": null,
   "metadata": {},
   "outputs": [],
   "source": [
    "leeftijd_groepen, leeftijd_groepen_aantallen = [], []\n",
    "\n",
    "for leeftijd_groep, leeftijd_groep_df in zwembadbezoekers_df.groupby('klant_leeftijd_groep'):\n",
    "    leeftijd_groepen.append(leeftijd_groep)\n",
    "    leeftijd_groepen_aantallen.append(len(leeftijd_groep_df))\n",
    "    \n",
    "leeftijdgroepen_df = pd.DataFrame({'Age groups':leeftijd_groepen, 'Aantallen':leeftijd_groepen_aantallen})\n",
    "    \n",
    "leeftijdgroepen_df = leeftijdgroepen_df.sort_values('Aantallen', ascending=False)\n",
    "\n",
    "plt.bar(leeftijdgroepen_df['Age groups'], leeftijdgroepen_df['Aantallen'])\n",
    "plt.xticks(rotation=90)\n",
    "plt.title('Number of entries per age groups')\n",
    "\n",
    "plt.show()\n"
   ]
  },
  {
   "cell_type": "code",
   "execution_count": null,
   "metadata": {},
   "outputs": [],
   "source": [
    "for index, row in zwembadbezoekers_df.iterrows():\n",
    "    for column in list(zwembadbezoekers_df.columns):\n",
    "        print('Column name: ' + column)\n",
    "        print('Column value (first row): ' + str(row[column]))\n",
    "        print('Number of unique values in column: ' + str(len(zwembadbezoekers_df[column].unique())))\n",
    "        print('Number of NaN values in column: ' + str(zwembadbezoekers_df[column].isna().sum()))\n",
    "        print('\\n')\n",
    "    break\n",
    "    \n",
    "print('Remaining number of columns: ' +str(len(zwembadbezoekers_df.columns)))"
   ]
  },
  {
   "cell_type": "markdown",
   "metadata": {},
   "source": [
    "## Zwembadverkopen"
   ]
  },
  {
   "cell_type": "code",
   "execution_count": null,
   "metadata": {},
   "outputs": [],
   "source": [
    "zwembadverkopen_df = pd.read_excel('zwembadverkopen_noorderparkbad_21.xlsx')"
   ]
  },
  {
   "cell_type": "code",
   "execution_count": null,
   "metadata": {
    "scrolled": true
   },
   "outputs": [],
   "source": [
    "print('There are ' + str(len(zwembadverkopen_df)) + ' loggings with ' + str(len(zwembadverkopen_df.columns)) + ' columns.')"
   ]
  },
  {
   "cell_type": "code",
   "execution_count": null,
   "metadata": {},
   "outputs": [],
   "source": [
    "for index, row in zwembadverkopen_df.iterrows():\n",
    "    for column in list(zwembadverkopen_df.columns):\n",
    "        print('Column name: ' + column)\n",
    "        print('Column value (first row): ' + str(row[column]))\n",
    "        print('Number of unique values in column: ' + str(len(zwembadverkopen_df[column].unique())))\n",
    "        print('Number of NaN values in column: ' + str(zwembadverkopen_df[column].isna().sum()))\n",
    "        print('\\n')\n",
    "    break\n",
    "    \n",
    "print('Remaining number of columns: ' +str(len(zwembadverkopen_df.columns)))"
   ]
  },
  {
   "cell_type": "code",
   "execution_count": null,
   "metadata": {},
   "outputs": [],
   "source": [
    "# remove this column because it doesn't add any value\n",
    "del zwembadverkopen_df['Unnamed: 0']"
   ]
  },
  {
   "cell_type": "markdown",
   "metadata": {},
   "source": [
    "#### Addressid\n"
   ]
  },
  {
   "cell_type": "markdown",
   "metadata": {},
   "source": [
    "#### Sale date"
   ]
  },
  {
   "cell_type": "code",
   "execution_count": null,
   "metadata": {},
   "outputs": [],
   "source": [
    "print('For each observation, there is a sales datetime. I had to reformat them.')\n",
    "\n",
    "# Classify date column by format type\n",
    "zwembadverkopen_df['format'] = 1\n",
    "zwembadverkopen_df.loc[zwembadverkopen_df['verkoop_datum'].str.contains('.'), 'format'] = 2\n",
    "zwembadverkopen_df['verkoopdatum'] = pd.to_datetime(zwembadverkopen_df['verkoop_datum'])\n",
    "\n",
    "# Convert to datetime with two different format settings\n",
    "zwembadverkopen_df.loc[zwembadverkopen_df['format'] == 1, 'verkoopdatum'] = pd.to_datetime(zwembadverkopen_df.loc[zwembadverkopen_df['format'] == 1, 'verkoop_datum'], format = '%Y-%m-%d %H:%M:%S').dt.strftime('%Y-%m-%d %H:%M:%S')\n",
    "zwembadverkopen_df.loc[zwembadverkopen_df['format'] == 2, 'verkoopdatum'] = pd.to_datetime(zwembadverkopen_df.loc[zwembadverkopen_df['format'] == 2, 'verkoop_datum'], format = '%Y-%m-%d %H:%M:%S.%f').dt.strftime('%Y-%m-%d %H:%M:%S')\n",
    "\n",
    "del zwembadverkopen_df['verkoop_datum']\n",
    "del zwembadverkopen_df['format']"
   ]
  },
  {
   "cell_type": "code",
   "execution_count": null,
   "metadata": {},
   "outputs": [],
   "source": [
    "zwembadverkopen_df['verkoopdatum'] =  pd.to_datetime(zwembadverkopen_df['verkoopdatum'], format='%Y-%m-%d %H:%M:%S')"
   ]
  },
  {
   "cell_type": "code",
   "execution_count": null,
   "metadata": {},
   "outputs": [],
   "source": [
    "%%time\n",
    "\n",
    "plt.hist(zwembadverkopen_df['verkoopdatum'].dt.year)\n",
    "plt.title('Distribution of the purchases per year')\n",
    "plt.xticks([2017,2018, 2019,2020])\n",
    "plt.show()\n",
    "\n",
    "\n",
    "plt.hist(zwembadverkopen_df['verkoopdatum'].dt.month)\n",
    "plt.title('Distribution of the purchases per month')\n",
    "plt.xticks([x for x in range(1, 13)], ['January', 'February', 'March', 'April', 'May', 'June', 'July', 'August', 'September', 'October', 'November', 'December'], rotation=90)\n",
    "plt.show()\n"
   ]
  },
  {
   "cell_type": "markdown",
   "metadata": {},
   "source": [
    "#### Sales data"
   ]
  },
  {
   "cell_type": "code",
   "execution_count": null,
   "metadata": {},
   "outputs": [],
   "source": [
    "print('Verkoop_documenttype has two unique values: '+str(zwembadverkopen_df['verkoop_documenttype'].unique()))\n",
    "print('This column is deleted until further notice.')\n"
   ]
  },
  {
   "cell_type": "code",
   "execution_count": null,
   "metadata": {},
   "outputs": [],
   "source": [
    "print('There are five verkooppunten: '+str(zwembadverkopen_df['verkoop_verkooppunt'].unique()))\n",
    "\n",
    "# Create a dataframe with the amount of sales per article group\n",
    "\n",
    "verkooppunten, verkooppunten_len = [], []\n",
    "\n",
    "for verkoopppunt, verkooppunt_df in zwembadverkopen_df.groupby('verkoop_verkooppunt'):\n",
    "    verkooppunten.append(verkoopppunt)\n",
    "    verkooppunten_len.append(len(verkooppunt_df))\n",
    "    \n",
    "verkooppunten_df = pd.DataFrame({'Verkooppunt':verkooppunten, 'Aantallen': verkooppunten_len})\n",
    "\n",
    "plt.bar(verkooppunten_df['Verkooppunt'], verkooppunten_df['Aantallen'])\n",
    "plt.xticks(rotation=90)\n",
    "plt.title('Aantal artikelen verkocht per verkooppunt')\n",
    "plt.show()"
   ]
  },
  {
   "cell_type": "code",
   "execution_count": null,
   "metadata": {},
   "outputs": [],
   "source": [
    "## interesting the evolution over the years? "
   ]
  },
  {
   "cell_type": "code",
   "execution_count": null,
   "metadata": {},
   "outputs": [],
   "source": [
    "print('The number of sales is deleted because it does not seem to add additional information.')\n",
    "\n",
    "del zwembadverkopen_df['aantal']"
   ]
  },
  {
   "cell_type": "code",
   "execution_count": null,
   "metadata": {},
   "outputs": [],
   "source": [
    "print('The euro amount of the sale is kept because it can be used later to link to the visitor data?')"
   ]
  },
  {
   "cell_type": "code",
   "execution_count": null,
   "metadata": {},
   "outputs": [],
   "source": [
    "print('The columns \"verkoopsregel_artikelafdeling division\", \"verkoopsregel_grootboekrekening\" and \"verkoopsregel_kostenplaats\" are deleted.')\n",
    "\n",
    "del zwembadverkopen_df['verkoopsregel_artikelafdeling']\n",
    "del zwembadverkopen_df['verkoopsregel_grootboekrekening']\n",
    "del zwembadverkopen_df['verkoopsregel_kostenplaats']\n"
   ]
  },
  {
   "cell_type": "code",
   "execution_count": null,
   "metadata": {},
   "outputs": [],
   "source": [
    "print('I choose to keep this data as it is, but I combine the article with its description into one column in order to reduce the amount of columns.')\n",
    "\n",
    "zwembadverkopen_df['artikelgroep+omschrijving'] = zwembadverkopen_df['artikelgroep'] + '_:_' + zwembadverkopen_df['itemgroupdescription']  \n",
    "\n",
    "del zwembadverkopen_df['artikelgroep']\n",
    "del zwembadverkopen_df['itemgroupdescription']\n"
   ]
  },
  {
   "cell_type": "code",
   "execution_count": null,
   "metadata": {},
   "outputs": [],
   "source": [
    "print('I choose to keep this data as it is, but I combine the article with its description into one column in order to reduce the amount of columns.')\n",
    "\n",
    "zwembadverkopen_df['artikelcode+omschrijving+verkoopsregel'] = zwembadverkopen_df['verkoopsregel_artikelcode'] + '_:_' + zwembadverkopen_df['artikelomschrijving']  + '_:_' + zwembadverkopen_df['verkoopsregel_omschrijving']  \n",
    "\n",
    "del zwembadverkopen_df['verkoopsregel_artikelcode']\n",
    "del zwembadverkopen_df['artikelomschrijving'] \n",
    "del zwembadverkopen_df['verkoopsregel_omschrijving']\n"
   ]
  },
  {
   "cell_type": "code",
   "execution_count": null,
   "metadata": {},
   "outputs": [],
   "source": [
    "for index, row in zwembadverkopen_df.iterrows():\n",
    "    for column in list(zwembadverkopen_df.columns):\n",
    "        print('Column name: ' + column)\n",
    "        print('Column value (first row): ' + str(row[column]))\n",
    "        print('Number of unique values in column: ' + str(len(zwembadverkopen_df[column].unique())))\n",
    "        print('Number of NaN values in column: ' + str(zwembadverkopen_df[column].isna().sum()))\n",
    "        print('\\n')\n",
    "    break\n",
    "    \n",
    "print('Remaining number of columns: ' +str(len(zwembadverkopen_df.columns)))"
   ]
  },
  {
   "cell_type": "code",
   "execution_count": null,
   "metadata": {},
   "outputs": [],
   "source": [
    "print('The invoice column is deleted because it does not add any additional information')\n",
    "\n",
    "del zwembadverkopen_df['factuur']"
   ]
  },
  {
   "cell_type": "code",
   "execution_count": null,
   "metadata": {},
   "outputs": [],
   "source": [
    "print('The sales number is deleted since it does not add any additional information.')\n",
    "\n",
    "del zwembadverkopen_df['verkoop_nummer']"
   ]
  },
  {
   "cell_type": "code",
   "execution_count": null,
   "metadata": {},
   "outputs": [],
   "source": [
    "print('The discount column is deleted since it does not add any additional information.')\n",
    "\n",
    "print(str(len(zwembadverkopen_df[zwembadverkopen_df['verkoopsregel_kortingspercentage'] == 0])) + ' of the entries have 0 discount.' )\n",
    "print(str(len(zwembadverkopen_df[zwembadverkopen_df['verkoopsregel_kortingspercentage'] != 0])) + ' of the entries have a discount.' )\n",
    "\n",
    "del zwembadverkopen_df['verkoopsregel_kortingspercentage']"
   ]
  },
  {
   "cell_type": "code",
   "execution_count": null,
   "metadata": {},
   "outputs": [],
   "source": [
    "print('There are six accounting ledgers: '+str(zwembadverkopen_df['grootboekrekening_omschrijving'].unique()))\n",
    "\n",
    "# Create a dataframe with the amount of sales per article group\n",
    "\n",
    "grootboekrekeningen, grootboekrekeningen_len = [], []\n",
    "\n",
    "for grootboekrekening, grootboekrekening_df in zwembadverkopen_df.groupby('grootboekrekening_omschrijving'):\n",
    "    grootboekrekeningen.append(grootboekrekening)\n",
    "    grootboekrekeningen_len.append(len(grootboekrekening_df))\n",
    "    \n",
    "grootboekrekening_df = pd.DataFrame({'Grootboekrekening':grootboekrekeningen, 'Aantallen': grootboekrekeningen_len})\n",
    "\n",
    "plt.bar(grootboekrekening_df['Grootboekrekening'], grootboekrekening_df['Aantallen'])\n",
    "plt.xticks(rotation=90)\n",
    "plt.title('Amount of articles sold per accounting ledger')\n",
    "plt.show()"
   ]
  },
  {
   "cell_type": "code",
   "execution_count": null,
   "metadata": {},
   "outputs": [],
   "source": [
    "grootboekrekening_df.sort_values('Aantallen', ascending=False)"
   ]
  },
  {
   "cell_type": "code",
   "execution_count": null,
   "metadata": {},
   "outputs": [],
   "source": [
    "print('There are three article divisions: '+str(zwembadverkopen_df['artikelafdeling__omschrijving'].unique()))\n",
    "\n",
    "# Create a dataframe with the amount of sales per article group\n",
    "\n",
    "artikelafdelingen, artikelafdelingen_len = [], []\n",
    "\n",
    "for artikelafdeling, artikelafdeling_df in zwembadverkopen_df.groupby('artikelafdeling__omschrijving'):\n",
    "    artikelafdelingen.append(artikelafdeling)\n",
    "    artikelafdelingen_len.append(len(artikelafdeling_df))\n",
    "    \n",
    "artikelafdeling_df = pd.DataFrame({'Artikelafdeling':artikelafdelingen, 'Aantallen': artikelafdelingen_len})\n",
    "\n",
    "plt.bar(artikelafdeling_df['Artikelafdeling'], artikelafdeling_df['Aantallen'])\n",
    "plt.xticks(rotation=90)\n",
    "plt.title('Amount of articles sold per article division')\n",
    "plt.show()"
   ]
  },
  {
   "cell_type": "code",
   "execution_count": null,
   "metadata": {},
   "outputs": [],
   "source": [
    "print('Why are there almost 30.000 entries for the Zuiderbad while the purchase division is Noorderparkbad?')\n",
    "artikelafdeling_df"
   ]
  },
  {
   "cell_type": "code",
   "execution_count": null,
   "metadata": {},
   "outputs": [],
   "source": []
  },
  {
   "cell_type": "code",
   "execution_count": null,
   "metadata": {},
   "outputs": [],
   "source": [
    "buurten, buurten_observations = [], []\n",
    "\n",
    "for buurt, buurt_df in zwembadverkopen_df.groupby('buurt_code'):\n",
    "    buurten.append(buurt)\n",
    "    buurten_observations.append(len(buurt_df))\n",
    "    \n",
    "buurten_df = pd.DataFrame({'Neighbourhood':buurten, 'Aantallen':buurten_observations})\n",
    "    \n",
    "buurten_df = buurten_df.sort_values('Aantallen')[-(20):]\n",
    "\n",
    "plt.bar(buurten_df['Neighbourhood'], buurten_df['Aantallen'])\n",
    "plt.xticks(rotation=90)\n",
    "plt.title('Top 20 wijken met de meeste aankopen')\n",
    "\n",
    "plt.show()\n"
   ]
  },
  {
   "cell_type": "code",
   "execution_count": null,
   "metadata": {},
   "outputs": [],
   "source": []
  },
  {
   "cell_type": "code",
   "execution_count": null,
   "metadata": {},
   "outputs": [],
   "source": []
  },
  {
   "cell_type": "code",
   "execution_count": null,
   "metadata": {},
   "outputs": [],
   "source": [
    "leeftijd_groepen, leeftijd_groepen_aantallen = [], []\n",
    "\n",
    "for leeftijd_groep, leeftijd_groep_df in zwembadverkopen_df.groupby('klant_leeftijd_groep'):\n",
    "    leeftijd_groepen.append(leeftijd_groep)\n",
    "    leeftijd_groepen_aantallen.append(len(leeftijd_groep_df))\n",
    "    \n",
    "leeftijdgroepen_df = pd.DataFrame({'Age groups':leeftijd_groepen, 'Aantallen':leeftijd_groepen_aantallen})\n",
    "    \n",
    "leeftijdgroepen_df = leeftijdgroepen_df.sort_values('Aantallen', ascending=True)\n",
    "\n",
    "plt.bar(leeftijdgroepen_df['Age groups'], leeftijdgroepen_df['Aantallen'])\n",
    "plt.xticks(rotation=90)\n",
    "plt.title('Aantal aankopen per leeftijdsgroep')\n",
    "\n",
    "plt.show()\n"
   ]
  },
  {
   "cell_type": "code",
   "execution_count": null,
   "metadata": {},
   "outputs": [],
   "source": [
    "for index, row in zwembadverkopen_df.iterrows():\n",
    "    for column in list(zwembadverkopen_df.columns):\n",
    "        print('Column name: ' + column)\n",
    "        print('Column value (first row): ' + str(row[column]))\n",
    "        print('Number of unique values in column: ' + str(len(zwembadverkopen_df[column].unique())))\n",
    "        print('Number of NaN values in column: ' + str(zwembadverkopen_df[column].isna().sum()))\n",
    "        print('\\n')\n",
    "    break\n",
    "    \n",
    "print('Remaining number of columns: ' +str(len(zwembadverkopen_df.columns)))"
   ]
  }
 ],
 "metadata": {
  "kernelspec": {
   "display_name": "Python 3",
   "language": "python",
   "name": "python3"
  },
  "language_info": {
   "codemirror_mode": {
    "name": "ipython",
    "version": 3
   },
   "file_extension": ".py",
   "mimetype": "text/x-python",
   "name": "python",
   "nbconvert_exporter": "python",
   "pygments_lexer": "ipython3",
   "version": "3.7.4"
  }
 },
 "nbformat": 4,
 "nbformat_minor": 2
}
